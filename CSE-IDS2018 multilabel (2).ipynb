{
 "cells": [
  {
   "cell_type": "markdown",
   "metadata": {},
   "source": [
    "Versione 2 --> LSTM multiclasse con train_test_split + scelta timesteps + feature selezionate con RFE (44) + TIMESTAMP ORDINATO."
   ]
  },
  {
   "cell_type": "markdown",
   "metadata": {},
   "source": [
    "# LOAD THE DATA"
   ]
  },
  {
   "cell_type": "code",
   "execution_count": 140,
   "metadata": {},
   "outputs": [],
   "source": [
    "import os\n",
    "\n",
    "os.environ['TF_CPP_MIN_LOG_LEVEL'] = '3'  "
   ]
  },
  {
   "cell_type": "markdown",
   "metadata": {},
   "source": [
    "Creo un DataFrame pandas dal dataset CSE IDS-2018:"
   ]
  },
  {
   "cell_type": "code",
   "execution_count": 141,
   "metadata": {},
   "outputs": [],
   "source": [
    "import pandas as pd\n",
    "\n",
    "# Apro il file CSV e creo un DataFrame\n",
    "df = pd.read_csv('Friday-16-02-2018_TrafficForML_CICFlowMeter.csv', low_memory=False)      # for mixed types"
   ]
  },
  {
   "cell_type": "markdown",
   "metadata": {},
   "source": [
    "# HANDLE TARGET FEATURE"
   ]
  },
  {
   "cell_type": "code",
   "execution_count": 142,
   "metadata": {},
   "outputs": [
    {
     "data": {
      "text/plain": [
       "array(['Benign', 'DoS attacks-SlowHTTPTest', 'DoS attacks-Hulk', 'Label'],\n",
       "      dtype=object)"
      ]
     },
     "execution_count": 142,
     "metadata": {},
     "output_type": "execute_result"
    }
   ],
   "source": [
    "# Analizzo la colonna dei target\n",
    "df[\"Label\"].unique()"
   ]
  },
  {
   "cell_type": "code",
   "execution_count": 143,
   "metadata": {},
   "outputs": [
    {
     "data": {
      "text/plain": [
       "Label\n",
       "DoS attacks-Hulk            461912\n",
       "Benign                      446772\n",
       "DoS attacks-SlowHTTPTest    139890\n",
       "Label                            1\n",
       "Name: count, dtype: int64"
      ]
     },
     "execution_count": 143,
     "metadata": {},
     "output_type": "execute_result"
    }
   ],
   "source": [
    "# Osservo il numero di occorrenze per ogni tipo di attacco\n",
    "df[\"Label\"].value_counts()"
   ]
  },
  {
   "cell_type": "markdown",
   "metadata": {},
   "source": [
    "Nei target è presente un'istanza con valore \"Label\" (non definito), la droppo:"
   ]
  },
  {
   "cell_type": "code",
   "execution_count": 144,
   "metadata": {},
   "outputs": [
    {
     "data": {
      "text/plain": [
       "Label\n",
       "DoS attacks-Hulk            461912\n",
       "Benign                      446772\n",
       "DoS attacks-SlowHTTPTest    139890\n",
       "Name: count, dtype: int64"
      ]
     },
     "execution_count": 144,
     "metadata": {},
     "output_type": "execute_result"
    }
   ],
   "source": [
    "# Scarto le istanze 'Label' della feature Label\n",
    "df.drop(df.loc[df[\"Label\"] == \"Label\"].index, inplace=True)\n",
    "\n",
    "# Verifico\n",
    "df[\"Label\"].value_counts()"
   ]
  },
  {
   "cell_type": "code",
   "execution_count": 145,
   "metadata": {},
   "outputs": [],
   "source": [
    "# Per comodità rinomino la colonna dei target\n",
    "labels = df['Label']"
   ]
  },
  {
   "cell_type": "markdown",
   "metadata": {},
   "source": [
    "## LABEL ENCODER (Cross validation)"
   ]
  },
  {
   "cell_type": "markdown",
   "metadata": {},
   "source": [
    "Mi serve di effettuare un encoding sull'intero dataset, che userò successivamente per la cross validation."
   ]
  },
  {
   "cell_type": "code",
   "execution_count": 146,
   "metadata": {},
   "outputs": [],
   "source": [
    "from sklearn.preprocessing import LabelEncoder\n",
    "from keras.utils import to_categorical"
   ]
  },
  {
   "cell_type": "markdown",
   "metadata": {},
   "source": [
    "Uso LabelEncoder per trasformare le etichette di classe in numeri interi:"
   ]
  },
  {
   "cell_type": "code",
   "execution_count": 147,
   "metadata": {},
   "outputs": [
    {
     "data": {
      "text/plain": [
       "array(['Benign', 'DoS attacks-Hulk', 'DoS attacks-SlowHTTPTest'],\n",
       "      dtype=object)"
      ]
     },
     "execution_count": 147,
     "metadata": {},
     "output_type": "execute_result"
    }
   ],
   "source": [
    "encoder_cross = LabelEncoder()\n",
    "\n",
    "# Addestro l'encoder sulle categorie di attacchi (impara ad associare ogni categoria ad un numero univoco)\n",
    "encoder_cross.fit(labels)\n",
    "\n",
    "# Trasformo le labels in una sequenza di numeri interi\n",
    "y_dataset_encoded = encoder_cross.transform(labels)\n",
    "\n",
    "# Verifico che le classi siano corrette\n",
    "encoder_cross.classes_"
   ]
  },
  {
   "cell_type": "code",
   "execution_count": 148,
   "metadata": {},
   "outputs": [],
   "source": [
    "# Converto i numeri interi in vettori one-hot\n",
    "y_dataset_categorical = to_categorical(y_dataset_encoded, num_classes=len(encoder_cross.classes_))"
   ]
  },
  {
   "cell_type": "markdown",
   "metadata": {},
   "source": [
    "# TIMESTAMP FEATURE - Understanding timesteps"
   ]
  },
  {
   "cell_type": "code",
   "execution_count": 149,
   "metadata": {},
   "outputs": [
    {
     "data": {
      "text/plain": [
       "0     16/02/2018 08:27:23\n",
       "1     16/02/2018 08:30:12\n",
       "2     16/02/2018 08:26:55\n",
       "3     16/02/2018 08:33:01\n",
       "4     16/02/2018 08:27:59\n",
       "5     16/02/2018 08:35:50\n",
       "6     16/02/2018 08:38:39\n",
       "7     16/02/2018 08:41:28\n",
       "8     16/02/2018 08:44:17\n",
       "9     16/02/2018 08:47:06\n",
       "10    16/02/2018 08:38:02\n",
       "11    16/02/2018 08:49:55\n",
       "12    16/02/2018 08:51:18\n",
       "13    16/02/2018 08:52:44\n",
       "14    16/02/2018 08:56:00\n",
       "15    16/02/2018 08:56:00\n",
       "16    16/02/2018 08:56:01\n",
       "17    16/02/2018 08:56:01\n",
       "18    16/02/2018 08:56:00\n",
       "19    16/02/2018 08:56:00\n",
       "20    16/02/2018 08:55:32\n",
       "21    16/02/2018 08:58:21\n",
       "22    16/02/2018 09:01:10\n",
       "23    16/02/2018 08:42:10\n",
       "24    16/02/2018 09:03:59\n",
       "25    16/02/2018 08:55:24\n",
       "26    16/02/2018 09:09:27\n",
       "27    16/02/2018 09:09:27\n",
       "28    16/02/2018 09:06:48\n",
       "29    16/02/2018 09:09:37\n",
       "30    16/02/2018 09:12:26\n",
       "31    16/02/2018 08:34:20\n",
       "32    16/02/2018 09:15:15\n",
       "33    16/02/2018 09:18:04\n",
       "34    16/02/2018 09:22:07\n",
       "35    16/02/2018 09:20:53\n",
       "36    16/02/2018 09:23:42\n",
       "37    16/02/2018 09:26:31\n",
       "38    16/02/2018 09:29:59\n",
       "39    16/02/2018 09:30:07\n",
       "40    16/02/2018 09:07:09\n",
       "41    16/02/2018 09:29:20\n",
       "42    16/02/2018 09:33:18\n",
       "43    16/02/2018 09:33:25\n",
       "44    16/02/2018 09:33:18\n",
       "45    16/02/2018 09:33:26\n",
       "46    16/02/2018 09:30:25\n",
       "47    16/02/2018 09:33:30\n",
       "48    16/02/2018 09:33:30\n",
       "49    16/02/2018 09:33:44\n",
       "Name: Timestamp, dtype: object"
      ]
     },
     "execution_count": 149,
     "metadata": {},
     "output_type": "execute_result"
    }
   ],
   "source": [
    "df['Timestamp'].head(50)"
   ]
  },
  {
   "cell_type": "code",
   "execution_count": 150,
   "metadata": {},
   "outputs": [
    {
     "data": {
      "text/plain": [
       "91659    2018-02-16 01:00:32\n",
       "91658    2018-02-16 01:01:42\n",
       "91661    2018-02-16 01:03:21\n",
       "91689    2018-02-16 01:03:50\n",
       "91663    2018-02-16 01:06:10\n",
       "91662    2018-02-16 01:08:55\n",
       "91664    2018-02-16 01:08:59\n",
       "91665    2018-02-16 01:11:48\n",
       "91670    2018-02-16 01:14:37\n",
       "91666    2018-02-16 01:14:53\n",
       "91667    2018-02-16 01:15:11\n",
       "91668    2018-02-16 01:17:04\n",
       "91669    2018-02-16 01:17:14\n",
       "91672    2018-02-16 01:17:26\n",
       "209903   2018-02-16 01:18:03\n",
       "91673    2018-02-16 01:20:15\n",
       "91682    2018-02-16 01:23:04\n",
       "91674    2018-02-16 01:23:54\n",
       "91676    2018-02-16 01:24:01\n",
       "91675    2018-02-16 01:24:13\n",
       "91678    2018-02-16 01:24:16\n",
       "91677    2018-02-16 01:24:20\n",
       "91680    2018-02-16 01:24:27\n",
       "91679    2018-02-16 01:24:34\n",
       "91681    2018-02-16 01:24:45\n",
       "91685    2018-02-16 01:25:53\n",
       "91683    2018-02-16 01:26:21\n",
       "91684    2018-02-16 01:26:24\n",
       "91687    2018-02-16 01:28:42\n",
       "91686    2018-02-16 01:29:44\n",
       "91688    2018-02-16 01:31:03\n",
       "91690    2018-02-16 01:31:31\n",
       "91691    2018-02-16 01:34:20\n",
       "91694    2018-02-16 01:37:09\n",
       "91692    2018-02-16 01:38:18\n",
       "91693    2018-02-16 01:38:29\n",
       "91696    2018-02-16 01:39:58\n",
       "91695    2018-02-16 01:41:33\n",
       "134123   2018-02-16 01:42:46\n",
       "91697    2018-02-16 01:43:51\n",
       "91698    2018-02-16 01:44:10\n",
       "91699    2018-02-16 01:45:05\n",
       "92164    2018-02-16 01:45:27\n",
       "92149    2018-02-16 01:45:27\n",
       "92150    2018-02-16 01:45:27\n",
       "92151    2018-02-16 01:45:27\n",
       "92152    2018-02-16 01:45:27\n",
       "92148    2018-02-16 01:45:27\n",
       "92153    2018-02-16 01:45:27\n",
       "92154    2018-02-16 01:45:27\n",
       "Name: Timestamp, dtype: datetime64[ns]"
      ]
     },
     "execution_count": 150,
     "metadata": {},
     "output_type": "execute_result"
    }
   ],
   "source": [
    "# Converto la colonna Timestamp in datetime\n",
    "df['Timestamp'] = pd.to_datetime(df['Timestamp'], dayfirst=True)\n",
    "\n",
    "# Ordino il dataframe per la colonna Timestamp in ordine cronologico\n",
    "df = df.sort_values(by='Timestamp')\n",
    "\n",
    "# Verifico\n",
    "df[\"Timestamp\"].head(50)"
   ]
  },
  {
   "cell_type": "markdown",
   "metadata": {},
   "source": [
    "Osservo la colonna Timestamp per capire ogni quanto sono state fatte le osservazioni sul traffico di rete:"
   ]
  },
  {
   "cell_type": "code",
   "execution_count": 151,
   "metadata": {},
   "outputs": [
    {
     "name": "stdout",
     "output_type": "stream",
     "text": [
      "Il periodo totale di osservazione è: 0 days 11:57:52\n"
     ]
    }
   ],
   "source": [
    "# Converto la colonna Timestamp in datetime\n",
    "df['Timestamp'] = pd.to_datetime(df['Timestamp'], dayfirst=True)\n",
    "\n",
    "# Trovo il timestamp minimo e massimo\n",
    "min_timestamp = df['Timestamp'].min()\n",
    "max_timestamp = df['Timestamp'].max()\n",
    "\n",
    "# Calcolo la durata totale\n",
    "duration = max_timestamp - min_timestamp\n",
    "\n",
    "print(f\"Il periodo totale di osservazione è: {duration}\")"
   ]
  },
  {
   "cell_type": "markdown",
   "metadata": {},
   "source": [
    "# CREATE TEST SET AND VAL SET"
   ]
  },
  {
   "cell_type": "markdown",
   "metadata": {},
   "source": [
    "Suddivido il DataFrame in training set (60%), test set (20%) e validation set(20%)."
   ]
  },
  {
   "cell_type": "code",
   "execution_count": 152,
   "metadata": {},
   "outputs": [
    {
     "name": "stdout",
     "output_type": "stream",
     "text": [
      "(629144, 80) (629144,)\n",
      "(209715, 80) (209715,)\n",
      "(209715, 80) (209715,)\n"
     ]
    }
   ],
   "source": [
    "from sklearn.model_selection import train_test_split\n",
    "\n",
    "# Prima suddivisione: divido il dataset in training set e test set\n",
    "X_train, X_test, y_train, y_test = train_test_split(df, labels, test_size=0.2, random_state=42)\n",
    "\n",
    "# Seconda suddivisione: divido il training set rimanente in training set e validation set\n",
    "X_train, X_val, y_train, y_val = train_test_split(X_train, y_train, test_size=0.25, random_state=42)\n",
    "\n",
    "# Verifico la shape\n",
    "print(X_train.shape, y_train.shape)\n",
    "print(X_val.shape, y_val.shape)\n",
    "print(X_test.shape, y_test.shape)"
   ]
  },
  {
   "cell_type": "markdown",
   "metadata": {},
   "source": [
    "## LABEL ENCODER (Train_test_split)"
   ]
  },
  {
   "cell_type": "markdown",
   "metadata": {},
   "source": [
    "Definisco un'istanza separata del LabelEncoder per il df che verrà valutato sulla suddivisione _train test split_. Questo è necessario perchè in questo caso devo applicare il _fit_ solo al set di addestramento, e non all'intero df."
   ]
  },
  {
   "cell_type": "code",
   "execution_count": 153,
   "metadata": {},
   "outputs": [
    {
     "data": {
      "text/plain": [
       "array(['Benign', 'DoS attacks-Hulk', 'DoS attacks-SlowHTTPTest'],\n",
       "      dtype=object)"
      ]
     },
     "execution_count": 153,
     "metadata": {},
     "output_type": "execute_result"
    }
   ],
   "source": [
    "tts_encoder = LabelEncoder()\n",
    "\n",
    "# Codifica delle etichette basata solo sul training set\n",
    "tts_encoder.fit(y_train)\n",
    "\n",
    "# Codifica delle etichette per tutti i set utilizzando lo stesso encoder\n",
    "y_train_encoded = tts_encoder.transform(y_train)\n",
    "y_val_encoded = tts_encoder.transform(y_val)\n",
    "y_test_encoded = tts_encoder.transform(y_test)\n",
    "\n",
    "# Verifico che le classi siano corrette\n",
    "tts_encoder.classes_"
   ]
  },
  {
   "cell_type": "code",
   "execution_count": 154,
   "metadata": {},
   "outputs": [],
   "source": [
    "# Converto i numeri interi in vettori one-hot\n",
    "y_train_categorical = to_categorical(y_train_encoded, num_classes=len(tts_encoder.classes_))\n",
    "y_val_categorical = to_categorical(y_val_encoded, num_classes=len(tts_encoder.classes_))\n",
    "y_test_categorical = to_categorical(y_test_encoded, num_classes=len(tts_encoder.classes_))"
   ]
  },
  {
   "cell_type": "markdown",
   "metadata": {},
   "source": [
    "# TAKE A QUICK LOOK AT THE DATA STRUCTURE"
   ]
  },
  {
   "cell_type": "markdown",
   "metadata": {},
   "source": [
    "Sbircio la struttura e le prime istanze del df per capire come procedere:"
   ]
  },
  {
   "cell_type": "code",
   "execution_count": 155,
   "metadata": {},
   "outputs": [
    {
     "data": {
      "text/html": [
       "<div>\n",
       "<style scoped>\n",
       "    .dataframe tbody tr th:only-of-type {\n",
       "        vertical-align: middle;\n",
       "    }\n",
       "\n",
       "    .dataframe tbody tr th {\n",
       "        vertical-align: top;\n",
       "    }\n",
       "\n",
       "    .dataframe thead th {\n",
       "        text-align: right;\n",
       "    }\n",
       "</style>\n",
       "<table border=\"1\" class=\"dataframe\">\n",
       "  <thead>\n",
       "    <tr style=\"text-align: right;\">\n",
       "      <th></th>\n",
       "      <th>Dst Port</th>\n",
       "      <th>Protocol</th>\n",
       "      <th>Timestamp</th>\n",
       "      <th>Flow Duration</th>\n",
       "      <th>Tot Fwd Pkts</th>\n",
       "      <th>Tot Bwd Pkts</th>\n",
       "      <th>TotLen Fwd Pkts</th>\n",
       "      <th>TotLen Bwd Pkts</th>\n",
       "      <th>Fwd Pkt Len Max</th>\n",
       "      <th>Fwd Pkt Len Min</th>\n",
       "      <th>...</th>\n",
       "      <th>Fwd Seg Size Min</th>\n",
       "      <th>Active Mean</th>\n",
       "      <th>Active Std</th>\n",
       "      <th>Active Max</th>\n",
       "      <th>Active Min</th>\n",
       "      <th>Idle Mean</th>\n",
       "      <th>Idle Std</th>\n",
       "      <th>Idle Max</th>\n",
       "      <th>Idle Min</th>\n",
       "      <th>Label</th>\n",
       "    </tr>\n",
       "  </thead>\n",
       "  <tbody>\n",
       "    <tr>\n",
       "      <th>91659</th>\n",
       "      <td>0</td>\n",
       "      <td>0</td>\n",
       "      <td>2018-02-16 01:00:32</td>\n",
       "      <td>112640723</td>\n",
       "      <td>3</td>\n",
       "      <td>0</td>\n",
       "      <td>0</td>\n",
       "      <td>0</td>\n",
       "      <td>0</td>\n",
       "      <td>0</td>\n",
       "      <td>...</td>\n",
       "      <td>0</td>\n",
       "      <td>0</td>\n",
       "      <td>0</td>\n",
       "      <td>0</td>\n",
       "      <td>0</td>\n",
       "      <td>56300000</td>\n",
       "      <td>101.1162697</td>\n",
       "      <td>56300000</td>\n",
       "      <td>56300000</td>\n",
       "      <td>Benign</td>\n",
       "    </tr>\n",
       "    <tr>\n",
       "      <th>91658</th>\n",
       "      <td>22</td>\n",
       "      <td>6</td>\n",
       "      <td>2018-02-16 01:01:42</td>\n",
       "      <td>2146470</td>\n",
       "      <td>14</td>\n",
       "      <td>12</td>\n",
       "      <td>1335</td>\n",
       "      <td>2273</td>\n",
       "      <td>744</td>\n",
       "      <td>0</td>\n",
       "      <td>...</td>\n",
       "      <td>32</td>\n",
       "      <td>0</td>\n",
       "      <td>0</td>\n",
       "      <td>0</td>\n",
       "      <td>0</td>\n",
       "      <td>0</td>\n",
       "      <td>0</td>\n",
       "      <td>0</td>\n",
       "      <td>0</td>\n",
       "      <td>Benign</td>\n",
       "    </tr>\n",
       "    <tr>\n",
       "      <th>91661</th>\n",
       "      <td>0</td>\n",
       "      <td>0</td>\n",
       "      <td>2018-02-16 01:03:21</td>\n",
       "      <td>112640737</td>\n",
       "      <td>3</td>\n",
       "      <td>0</td>\n",
       "      <td>0</td>\n",
       "      <td>0</td>\n",
       "      <td>0</td>\n",
       "      <td>0</td>\n",
       "      <td>...</td>\n",
       "      <td>0</td>\n",
       "      <td>0</td>\n",
       "      <td>0</td>\n",
       "      <td>0</td>\n",
       "      <td>0</td>\n",
       "      <td>56300000</td>\n",
       "      <td>17.67766953</td>\n",
       "      <td>56300000</td>\n",
       "      <td>56300000</td>\n",
       "      <td>Benign</td>\n",
       "    </tr>\n",
       "    <tr>\n",
       "      <th>91689</th>\n",
       "      <td>67</td>\n",
       "      <td>17</td>\n",
       "      <td>2018-02-16 01:03:50</td>\n",
       "      <td>721</td>\n",
       "      <td>1</td>\n",
       "      <td>1</td>\n",
       "      <td>300</td>\n",
       "      <td>329</td>\n",
       "      <td>300</td>\n",
       "      <td>300</td>\n",
       "      <td>...</td>\n",
       "      <td>8</td>\n",
       "      <td>0</td>\n",
       "      <td>0</td>\n",
       "      <td>0</td>\n",
       "      <td>0</td>\n",
       "      <td>0</td>\n",
       "      <td>0</td>\n",
       "      <td>0</td>\n",
       "      <td>0</td>\n",
       "      <td>Benign</td>\n",
       "    </tr>\n",
       "    <tr>\n",
       "      <th>91663</th>\n",
       "      <td>0</td>\n",
       "      <td>0</td>\n",
       "      <td>2018-02-16 01:06:10</td>\n",
       "      <td>112640647</td>\n",
       "      <td>3</td>\n",
       "      <td>0</td>\n",
       "      <td>0</td>\n",
       "      <td>0</td>\n",
       "      <td>0</td>\n",
       "      <td>0</td>\n",
       "      <td>...</td>\n",
       "      <td>0</td>\n",
       "      <td>0</td>\n",
       "      <td>0</td>\n",
       "      <td>0</td>\n",
       "      <td>0</td>\n",
       "      <td>56300000</td>\n",
       "      <td>58.68986284</td>\n",
       "      <td>56300000</td>\n",
       "      <td>56300000</td>\n",
       "      <td>Benign</td>\n",
       "    </tr>\n",
       "  </tbody>\n",
       "</table>\n",
       "<p>5 rows × 80 columns</p>\n",
       "</div>"
      ],
      "text/plain": [
       "      Dst Port Protocol           Timestamp Flow Duration Tot Fwd Pkts   \n",
       "91659        0        0 2018-02-16 01:00:32     112640723            3  \\\n",
       "91658       22        6 2018-02-16 01:01:42       2146470           14   \n",
       "91661        0        0 2018-02-16 01:03:21     112640737            3   \n",
       "91689       67       17 2018-02-16 01:03:50           721            1   \n",
       "91663        0        0 2018-02-16 01:06:10     112640647            3   \n",
       "\n",
       "      Tot Bwd Pkts TotLen Fwd Pkts TotLen Bwd Pkts Fwd Pkt Len Max   \n",
       "91659            0               0               0               0  \\\n",
       "91658           12            1335            2273             744   \n",
       "91661            0               0               0               0   \n",
       "91689            1             300             329             300   \n",
       "91663            0               0               0               0   \n",
       "\n",
       "      Fwd Pkt Len Min  ... Fwd Seg Size Min Active Mean Active Std Active Max   \n",
       "91659               0  ...                0           0          0          0  \\\n",
       "91658               0  ...               32           0          0          0   \n",
       "91661               0  ...                0           0          0          0   \n",
       "91689             300  ...                8           0          0          0   \n",
       "91663               0  ...                0           0          0          0   \n",
       "\n",
       "      Active Min Idle Mean     Idle Std  Idle Max  Idle Min   Label  \n",
       "91659          0  56300000  101.1162697  56300000  56300000  Benign  \n",
       "91658          0         0            0         0         0  Benign  \n",
       "91661          0  56300000  17.67766953  56300000  56300000  Benign  \n",
       "91689          0         0            0         0         0  Benign  \n",
       "91663          0  56300000  58.68986284  56300000  56300000  Benign  \n",
       "\n",
       "[5 rows x 80 columns]"
      ]
     },
     "execution_count": 155,
     "metadata": {},
     "output_type": "execute_result"
    }
   ],
   "source": [
    "df.head()"
   ]
  },
  {
   "cell_type": "code",
   "execution_count": 156,
   "metadata": {},
   "outputs": [
    {
     "name": "stdout",
     "output_type": "stream",
     "text": [
      "<class 'pandas.core.frame.DataFrame'>\n",
      "Index: 1048574 entries, 91659 to 91656\n",
      "Data columns (total 80 columns):\n",
      " #   Column             Non-Null Count    Dtype         \n",
      "---  ------             --------------    -----         \n",
      " 0   Dst Port           1048574 non-null  object        \n",
      " 1   Protocol           1048574 non-null  object        \n",
      " 2   Timestamp          1048574 non-null  datetime64[ns]\n",
      " 3   Flow Duration      1048574 non-null  object        \n",
      " 4   Tot Fwd Pkts       1048574 non-null  object        \n",
      " 5   Tot Bwd Pkts       1048574 non-null  object        \n",
      " 6   TotLen Fwd Pkts    1048574 non-null  object        \n",
      " 7   TotLen Bwd Pkts    1048574 non-null  object        \n",
      " 8   Fwd Pkt Len Max    1048574 non-null  object        \n",
      " 9   Fwd Pkt Len Min    1048574 non-null  object        \n",
      " 10  Fwd Pkt Len Mean   1048574 non-null  object        \n",
      " 11  Fwd Pkt Len Std    1048574 non-null  object        \n",
      " 12  Bwd Pkt Len Max    1048574 non-null  object        \n",
      " 13  Bwd Pkt Len Min    1048574 non-null  object        \n",
      " 14  Bwd Pkt Len Mean   1048574 non-null  object        \n",
      " 15  Bwd Pkt Len Std    1048574 non-null  object        \n",
      " 16  Flow Byts/s        1048574 non-null  object        \n",
      " 17  Flow Pkts/s        1048574 non-null  object        \n",
      " 18  Flow IAT Mean      1048574 non-null  object        \n",
      " 19  Flow IAT Std       1048574 non-null  object        \n",
      " 20  Flow IAT Max       1048574 non-null  object        \n",
      " 21  Flow IAT Min       1048574 non-null  object        \n",
      " 22  Fwd IAT Tot        1048574 non-null  object        \n",
      " 23  Fwd IAT Mean       1048574 non-null  object        \n",
      " 24  Fwd IAT Std        1048574 non-null  object        \n",
      " 25  Fwd IAT Max        1048574 non-null  object        \n",
      " 26  Fwd IAT Min        1048574 non-null  object        \n",
      " 27  Bwd IAT Tot        1048574 non-null  object        \n",
      " 28  Bwd IAT Mean       1048574 non-null  object        \n",
      " 29  Bwd IAT Std        1048574 non-null  object        \n",
      " 30  Bwd IAT Max        1048574 non-null  object        \n",
      " 31  Bwd IAT Min        1048574 non-null  object        \n",
      " 32  Fwd PSH Flags      1048574 non-null  object        \n",
      " 33  Bwd PSH Flags      1048574 non-null  object        \n",
      " 34  Fwd URG Flags      1048574 non-null  object        \n",
      " 35  Bwd URG Flags      1048574 non-null  object        \n",
      " 36  Fwd Header Len     1048574 non-null  object        \n",
      " 37  Bwd Header Len     1048574 non-null  object        \n",
      " 38  Fwd Pkts/s         1048574 non-null  object        \n",
      " 39  Bwd Pkts/s         1048574 non-null  object        \n",
      " 40  Pkt Len Min        1048574 non-null  object        \n",
      " 41  Pkt Len Max        1048574 non-null  object        \n",
      " 42  Pkt Len Mean       1048574 non-null  object        \n",
      " 43  Pkt Len Std        1048574 non-null  object        \n",
      " 44  Pkt Len Var        1048574 non-null  object        \n",
      " 45  FIN Flag Cnt       1048574 non-null  object        \n",
      " 46  SYN Flag Cnt       1048574 non-null  object        \n",
      " 47  RST Flag Cnt       1048574 non-null  object        \n",
      " 48  PSH Flag Cnt       1048574 non-null  object        \n",
      " 49  ACK Flag Cnt       1048574 non-null  object        \n",
      " 50  URG Flag Cnt       1048574 non-null  object        \n",
      " 51  CWE Flag Count     1048574 non-null  object        \n",
      " 52  ECE Flag Cnt       1048574 non-null  object        \n",
      " 53  Down/Up Ratio      1048574 non-null  object        \n",
      " 54  Pkt Size Avg       1048574 non-null  object        \n",
      " 55  Fwd Seg Size Avg   1048574 non-null  object        \n",
      " 56  Bwd Seg Size Avg   1048574 non-null  object        \n",
      " 57  Fwd Byts/b Avg     1048574 non-null  object        \n",
      " 58  Fwd Pkts/b Avg     1048574 non-null  object        \n",
      " 59  Fwd Blk Rate Avg   1048574 non-null  object        \n",
      " 60  Bwd Byts/b Avg     1048574 non-null  object        \n",
      " 61  Bwd Pkts/b Avg     1048574 non-null  object        \n",
      " 62  Bwd Blk Rate Avg   1048574 non-null  object        \n",
      " 63  Subflow Fwd Pkts   1048574 non-null  object        \n",
      " 64  Subflow Fwd Byts   1048574 non-null  object        \n",
      " 65  Subflow Bwd Pkts   1048574 non-null  object        \n",
      " 66  Subflow Bwd Byts   1048574 non-null  object        \n",
      " 67  Init Fwd Win Byts  1048574 non-null  object        \n",
      " 68  Init Bwd Win Byts  1048574 non-null  object        \n",
      " 69  Fwd Act Data Pkts  1048574 non-null  object        \n",
      " 70  Fwd Seg Size Min   1048574 non-null  object        \n",
      " 71  Active Mean        1048574 non-null  object        \n",
      " 72  Active Std         1048574 non-null  object        \n",
      " 73  Active Max         1048574 non-null  object        \n",
      " 74  Active Min         1048574 non-null  object        \n",
      " 75  Idle Mean          1048574 non-null  object        \n",
      " 76  Idle Std           1048574 non-null  object        \n",
      " 77  Idle Max           1048574 non-null  object        \n",
      " 78  Idle Min           1048574 non-null  object        \n",
      " 79  Label              1048574 non-null  object        \n",
      "dtypes: datetime64[ns](1), object(79)\n",
      "memory usage: 648.0+ MB\n"
     ]
    }
   ],
   "source": [
    "df.info()"
   ]
  },
  {
   "cell_type": "markdown",
   "metadata": {},
   "source": [
    "# CLEAN THE DATA - Dropping inf and missing values"
   ]
  },
  {
   "cell_type": "code",
   "execution_count": 157,
   "metadata": {},
   "outputs": [],
   "source": [
    "import numpy as np\n",
    "import matplotlib.pyplot as plt"
   ]
  },
  {
   "cell_type": "markdown",
   "metadata": {},
   "source": [
    "Gestisco eventuali valori Nan o mancanti, che causerebbero problemi nell'addestramento della rete."
   ]
  },
  {
   "cell_type": "code",
   "execution_count": 158,
   "metadata": {},
   "outputs": [
    {
     "name": "stdout",
     "output_type": "stream",
     "text": [
      "Valori NaN per colonna (solo colonne con NaN):\n",
      "Series([], dtype: int64)\n"
     ]
    }
   ],
   "source": [
    "# Verifico la presenza di valori NaN per ciascuna colonna\n",
    "nan_count_per_column = X_train.isna().sum()\n",
    "\n",
    "# Filtro le colonne con valori NaN maggiori di zero\n",
    "nan_count_nonzero = nan_count_per_column[nan_count_per_column > 0]\n",
    "\n",
    "# Stampo solo le colonne con valori NaN\n",
    "print(\"Valori NaN per colonna (solo colonne con NaN):\")\n",
    "print(nan_count_nonzero)"
   ]
  },
  {
   "cell_type": "code",
   "execution_count": 159,
   "metadata": {},
   "outputs": [
    {
     "name": "stdout",
     "output_type": "stream",
     "text": [
      "Valori vuoti per colonna (solo colonne con valori vuoti):\n",
      "Series([], dtype: int64)\n"
     ]
    }
   ],
   "source": [
    "# Conto il numero di valori vuoti in ciascuna colonna\n",
    "empty_count_per_column = X_train.applymap(lambda x: x == '').sum()\n",
    "\n",
    "# Filtro le colonne con valori vuoti maggiori di zero\n",
    "empty_count_per_column_nonzero = empty_count_per_column[empty_count_per_column > 0]\n",
    "\n",
    "# Stampo solo le colonne con valori vuoti\n",
    "print(\"Valori vuoti per colonna (solo colonne con valori vuoti):\")\n",
    "print(empty_count_per_column_nonzero)"
   ]
  },
  {
   "cell_type": "markdown",
   "metadata": {},
   "source": [
    "Non sono presenti valori NaN o mancanti."
   ]
  },
  {
   "cell_type": "markdown",
   "metadata": {},
   "source": [
    "# NUMERICAL AND CATEGORICAL FEATURES"
   ]
  },
  {
   "cell_type": "markdown",
   "metadata": {},
   "source": [
    "Studio le feature una ad una per gestire quelle categoriche."
   ]
  },
  {
   "cell_type": "markdown",
   "metadata": {},
   "source": [
    "### DST PORT"
   ]
  },
  {
   "cell_type": "code",
   "execution_count": 160,
   "metadata": {},
   "outputs": [
    {
     "data": {
      "text/plain": [
       "Dst Port\n",
       "80       276908\n",
       "21        83603\n",
       "0           102\n",
       "22           63\n",
       "51630        36\n",
       "          ...  \n",
       "49410         1\n",
       "38114         1\n",
       "41959         1\n",
       "53589         1\n",
       "53199         1\n",
       "Name: count, Length: 14133, dtype: int64"
      ]
     },
     "execution_count": 160,
     "metadata": {},
     "output_type": "execute_result"
    }
   ],
   "source": [
    "# Controllo i valori più ricorrenti della Dst Port\n",
    "X_train['Dst Port'].value_counts()"
   ]
  },
  {
   "cell_type": "code",
   "execution_count": 161,
   "metadata": {},
   "outputs": [
    {
     "data": {
      "text/plain": [
       "Dst Port\n",
       "80       276908\n",
       "Other    268468\n",
       "21        83603\n",
       "0           102\n",
       "22           63\n",
       "Name: count, dtype: int64"
      ]
     },
     "execution_count": 161,
     "metadata": {},
     "output_type": "execute_result"
    }
   ],
   "source": [
    "# Decido di creare 4 categorie che rappresentano i valori più frequenti, e le restanti apparterranno alla categoria 'Altro'\n",
    "def trasforma_dst_port(port):\n",
    "    if port in ['0', '80', '21', '22']:\n",
    "        return port\n",
    "    else:\n",
    "        return 'Other'\n",
    "\n",
    "# Applico la funzione alla colonna 'Dst Port' del DataFrame\n",
    "X_train['Dst Port'] = X_train['Dst Port'].apply(trasforma_dst_port)\n",
    "\n",
    "# Verifico\n",
    "X_train['Dst Port'].value_counts()"
   ]
  },
  {
   "cell_type": "markdown",
   "metadata": {},
   "source": [
    "### PROTOCOL"
   ]
  },
  {
   "cell_type": "code",
   "execution_count": 162,
   "metadata": {},
   "outputs": [
    {
     "data": {
      "text/plain": [
       "Protocol\n",
       "6     629032\n",
       "0        102\n",
       "17        10\n",
       "Name: count, dtype: int64"
      ]
     },
     "execution_count": 162,
     "metadata": {},
     "output_type": "execute_result"
    }
   ],
   "source": [
    "# Controllo i valori \n",
    "X_train['Protocol'].value_counts()"
   ]
  },
  {
   "cell_type": "markdown",
   "metadata": {},
   "source": [
    "Sono solo 3 protocolli, possono essere direttamente trasformati in 3 categorie."
   ]
  },
  {
   "cell_type": "markdown",
   "metadata": {},
   "source": [
    "### FWD/BWD PSH FLAGS (+)"
   ]
  },
  {
   "cell_type": "code",
   "execution_count": 163,
   "metadata": {},
   "outputs": [
    {
     "data": {
      "text/plain": [
       "Fwd PSH Flags\n",
       "0    629113\n",
       "1        31\n",
       "Name: count, dtype: int64"
      ]
     },
     "execution_count": 163,
     "metadata": {},
     "output_type": "execute_result"
    }
   ],
   "source": [
    "X_train['Fwd PSH Flags'].value_counts()"
   ]
  },
  {
   "cell_type": "code",
   "execution_count": 164,
   "metadata": {},
   "outputs": [
    {
     "data": {
      "text/plain": [
       "Bwd PSH Flags\n",
       "0    629144\n",
       "Name: count, dtype: int64"
      ]
     },
     "execution_count": 164,
     "metadata": {},
     "output_type": "execute_result"
    }
   ],
   "source": [
    "X_train['Bwd PSH Flags'].value_counts()"
   ]
  },
  {
   "cell_type": "markdown",
   "metadata": {},
   "source": [
    "Essendo solo una categoria non porta alcun contributo, rimuovo l'intera feature:"
   ]
  },
  {
   "cell_type": "code",
   "execution_count": 165,
   "metadata": {},
   "outputs": [],
   "source": [
    "# Rimuovo la colonna\n",
    "X_train = X_train.drop('Bwd PSH Flags', axis=1)"
   ]
  },
  {
   "cell_type": "markdown",
   "metadata": {},
   "source": [
    "### FWD/BWD URG FLAGS (-)"
   ]
  },
  {
   "cell_type": "code",
   "execution_count": 166,
   "metadata": {},
   "outputs": [
    {
     "data": {
      "text/plain": [
       "Fwd URG Flags\n",
       "0    629144\n",
       "Name: count, dtype: int64"
      ]
     },
     "execution_count": 166,
     "metadata": {},
     "output_type": "execute_result"
    }
   ],
   "source": [
    "X_train['Fwd URG Flags'].value_counts()"
   ]
  },
  {
   "cell_type": "code",
   "execution_count": 167,
   "metadata": {},
   "outputs": [
    {
     "data": {
      "text/plain": [
       "Bwd URG Flags\n",
       "0    629144\n",
       "Name: count, dtype: int64"
      ]
     },
     "execution_count": 167,
     "metadata": {},
     "output_type": "execute_result"
    }
   ],
   "source": [
    "X_train['Bwd URG Flags'].value_counts()"
   ]
  },
  {
   "cell_type": "markdown",
   "metadata": {},
   "source": [
    "Essendo solo una categoria non portano alcun contributo, rimuovo entrambe le feature:"
   ]
  },
  {
   "cell_type": "code",
   "execution_count": 168,
   "metadata": {},
   "outputs": [],
   "source": [
    "X_train = X_train.drop('Fwd URG Flags', axis=1)\n",
    "X_train = X_train.drop('Bwd URG Flags', axis=1)"
   ]
  },
  {
   "cell_type": "markdown",
   "metadata": {},
   "source": [
    "### FLAG CNT (+7)"
   ]
  },
  {
   "cell_type": "code",
   "execution_count": 169,
   "metadata": {},
   "outputs": [
    {
     "data": {
      "text/plain": [
       "FIN Flag Cnt\n",
       "0    628378\n",
       "1       766\n",
       "Name: count, dtype: int64"
      ]
     },
     "execution_count": 169,
     "metadata": {},
     "output_type": "execute_result"
    }
   ],
   "source": [
    "X_train['FIN Flag Cnt'].value_counts()"
   ]
  },
  {
   "cell_type": "code",
   "execution_count": 170,
   "metadata": {},
   "outputs": [
    {
     "data": {
      "text/plain": [
       "SYN Flag Cnt\n",
       "0    629113\n",
       "1        31\n",
       "Name: count, dtype: int64"
      ]
     },
     "execution_count": 170,
     "metadata": {},
     "output_type": "execute_result"
    }
   ],
   "source": [
    "X_train['SYN Flag Cnt'].value_counts()"
   ]
  },
  {
   "cell_type": "code",
   "execution_count": 171,
   "metadata": {},
   "outputs": [
    {
     "data": {
      "text/plain": [
       "RST Flag Cnt\n",
       "0    629142\n",
       "1         2\n",
       "Name: count, dtype: int64"
      ]
     },
     "execution_count": 171,
     "metadata": {},
     "output_type": "execute_result"
    }
   ],
   "source": [
    "X_train['RST Flag Cnt'].value_counts()"
   ]
  },
  {
   "cell_type": "code",
   "execution_count": 172,
   "metadata": {},
   "outputs": [
    {
     "data": {
      "text/plain": [
       "PSH Flag Cnt\n",
       "0    536973\n",
       "1     92171\n",
       "Name: count, dtype: int64"
      ]
     },
     "execution_count": 172,
     "metadata": {},
     "output_type": "execute_result"
    }
   ],
   "source": [
    "X_train['PSH Flag Cnt'].value_counts()"
   ]
  },
  {
   "cell_type": "code",
   "execution_count": 173,
   "metadata": {},
   "outputs": [
    {
     "data": {
      "text/plain": [
       "ACK Flag Cnt\n",
       "1    536095\n",
       "0     93049\n",
       "Name: count, dtype: int64"
      ]
     },
     "execution_count": 173,
     "metadata": {},
     "output_type": "execute_result"
    }
   ],
   "source": [
    "X_train['ACK Flag Cnt'].value_counts()"
   ]
  },
  {
   "cell_type": "code",
   "execution_count": 174,
   "metadata": {},
   "outputs": [
    {
     "data": {
      "text/plain": [
       "URG Flag Cnt\n",
       "0    613245\n",
       "1     15899\n",
       "Name: count, dtype: int64"
      ]
     },
     "execution_count": 174,
     "metadata": {},
     "output_type": "execute_result"
    }
   ],
   "source": [
    "X_train['URG Flag Cnt'].value_counts()"
   ]
  },
  {
   "cell_type": "code",
   "execution_count": 175,
   "metadata": {},
   "outputs": [
    {
     "data": {
      "text/plain": [
       "CWE Flag Count\n",
       "0    629144\n",
       "Name: count, dtype: int64"
      ]
     },
     "execution_count": 175,
     "metadata": {},
     "output_type": "execute_result"
    }
   ],
   "source": [
    "X_train['CWE Flag Count'].value_counts()"
   ]
  },
  {
   "cell_type": "markdown",
   "metadata": {},
   "source": [
    "Essendo solo una categoria non porta alcun contributo, rimuovo la feature:"
   ]
  },
  {
   "cell_type": "code",
   "execution_count": 176,
   "metadata": {},
   "outputs": [],
   "source": [
    "X_train = X_train.drop('CWE Flag Count', axis=1)"
   ]
  },
  {
   "cell_type": "code",
   "execution_count": 177,
   "metadata": {},
   "outputs": [
    {
     "data": {
      "text/plain": [
       "ECE Flag Cnt\n",
       "0    629142\n",
       "1         2\n",
       "Name: count, dtype: int64"
      ]
     },
     "execution_count": 177,
     "metadata": {},
     "output_type": "execute_result"
    }
   ],
   "source": [
    "X_train['ECE Flag Cnt'].value_counts()"
   ]
  },
  {
   "cell_type": "markdown",
   "metadata": {},
   "source": [
    "### DOWN/UP RATIO (+)"
   ]
  },
  {
   "cell_type": "code",
   "execution_count": 178,
   "metadata": {},
   "outputs": [
    {
     "data": {
      "text/plain": [
       "Down/Up Ratio\n",
       "0    509162\n",
       "1    118433\n",
       "2      1052\n",
       "3       497\n",
       "Name: count, dtype: int64"
      ]
     },
     "execution_count": 178,
     "metadata": {},
     "output_type": "execute_result"
    }
   ],
   "source": [
    "X_train['Down/Up Ratio'].value_counts()"
   ]
  },
  {
   "cell_type": "markdown",
   "metadata": {},
   "source": [
    "### FWD BLK RATE AVG (-)"
   ]
  },
  {
   "cell_type": "code",
   "execution_count": 179,
   "metadata": {},
   "outputs": [
    {
     "data": {
      "text/plain": [
       "Fwd Blk Rate Avg\n",
       "0    629144\n",
       "Name: count, dtype: int64"
      ]
     },
     "execution_count": 179,
     "metadata": {},
     "output_type": "execute_result"
    }
   ],
   "source": [
    "X_train['Fwd Blk Rate Avg'].value_counts()"
   ]
  },
  {
   "cell_type": "code",
   "execution_count": 180,
   "metadata": {},
   "outputs": [
    {
     "data": {
      "text/plain": [
       "Bwd Blk Rate Avg\n",
       "0    629144\n",
       "Name: count, dtype: int64"
      ]
     },
     "execution_count": 180,
     "metadata": {},
     "output_type": "execute_result"
    }
   ],
   "source": [
    "X_train['Bwd Blk Rate Avg'].value_counts()"
   ]
  },
  {
   "cell_type": "code",
   "execution_count": 181,
   "metadata": {},
   "outputs": [],
   "source": [
    "X_train = X_train.drop('Fwd Blk Rate Avg', axis=1)\n",
    "X_train = X_train.drop('Bwd Blk Rate Avg', axis=1)"
   ]
  },
  {
   "cell_type": "markdown",
   "metadata": {},
   "source": [
    "### BWD BYTS/B and PKTS/B AVG (-)"
   ]
  },
  {
   "cell_type": "code",
   "execution_count": 182,
   "metadata": {},
   "outputs": [
    {
     "data": {
      "text/plain": [
       "Bwd Byts/b Avg\n",
       "0    629144\n",
       "Name: count, dtype: int64"
      ]
     },
     "execution_count": 182,
     "metadata": {},
     "output_type": "execute_result"
    }
   ],
   "source": [
    "X_train['Bwd Byts/b Avg'].value_counts()"
   ]
  },
  {
   "cell_type": "code",
   "execution_count": 183,
   "metadata": {},
   "outputs": [
    {
     "data": {
      "text/plain": [
       "Bwd Pkts/b Avg\n",
       "0    629144\n",
       "Name: count, dtype: int64"
      ]
     },
     "execution_count": 183,
     "metadata": {},
     "output_type": "execute_result"
    }
   ],
   "source": [
    "X_train['Bwd Pkts/b Avg'].value_counts()"
   ]
  },
  {
   "cell_type": "code",
   "execution_count": 184,
   "metadata": {},
   "outputs": [],
   "source": [
    "X_train = X_train.drop('Bwd Pkts/b Avg', axis=1)\n",
    "X_train = X_train.drop('Bwd Byts/b Avg', axis=1)"
   ]
  },
  {
   "cell_type": "markdown",
   "metadata": {},
   "source": [
    "### ONE-HOT ENCODER"
   ]
  },
  {
   "cell_type": "code",
   "execution_count": 185,
   "metadata": {},
   "outputs": [],
   "source": [
    "from sklearn.preprocessing import OneHotEncoder"
   ]
  },
  {
   "cell_type": "code",
   "execution_count": 186,
   "metadata": {},
   "outputs": [],
   "source": [
    "cat_features = ['Dst Port', 'Protocol', 'Fwd PSH Flags', 'FIN Flag Cnt', 'SYN Flag Cnt', 'RST Flag Cnt', \n",
    "                'PSH Flag Cnt', 'ACK Flag Cnt', 'URG Flag Cnt', 'ECE Flag Cnt', 'Down/Up Ratio' ]\n",
    "\n",
    "num_features = ['Flow Duration', 'Tot Fwd Pkts', 'Tot Bwd Pkts', 'TotLen Fwd Pkts', 'TotLen Bwd Pkts', \n",
    "                'Fwd Pkt Len Max', 'Fwd Pkt Len Min', 'Fwd Pkt Len Mean', 'Fwd Pkt Len Std', \n",
    "                'Bwd Pkt Len Max', 'Bwd Pkt Len Min', 'Bwd Pkt Len Mean', 'Bwd Pkt Len Std', \n",
    "                'Flow Byts/s', 'Flow Pkts/s', 'Flow IAT Mean', 'Flow IAT Std', 'Flow IAT Max', \n",
    "                'Flow IAT Min', 'Fwd IAT Tot', 'Fwd IAT Mean', 'Fwd IAT Std', 'Fwd IAT Max', \n",
    "                'Fwd IAT Min', 'Bwd IAT Tot', 'Bwd IAT Mean', 'Bwd IAT Std', 'Bwd IAT Max', \n",
    "                'Bwd IAT Min', 'Fwd Header Len', 'Bwd Header Len', 'Bwd Pkts/s', 'Fwd Pkts/s', \n",
    "                'Pkt Len Min', 'Pkt Len Max', 'Pkt Len Mean', 'Pkt Len Std', 'Pkt Len Var', \n",
    "                'Pkt Size Avg', 'Fwd Seg Size Avg', 'Bwd Seg Size Avg', 'Fwd Byts/b Avg', \n",
    "                'Fwd Pkts/b Avg', 'Subflow Fwd Pkts',  'Subflow Fwd Byts', 'Subflow Bwd Pkts', \n",
    "                'Subflow Bwd Byts', 'Init Fwd Win Byts', 'Init Bwd Win Byts', 'Fwd Act Data Pkts',\n",
    "                'Fwd Seg Size Min', 'Active Mean', 'Active Std', 'Active Max', 'Active Min', 'Idle Mean', \n",
    "                'Idle Std', 'Idle Max', 'Idle Min']"
   ]
  },
  {
   "cell_type": "markdown",
   "metadata": {},
   "source": [
    "Converto le feature numeriche:"
   ]
  },
  {
   "cell_type": "code",
   "execution_count": 187,
   "metadata": {},
   "outputs": [],
   "source": [
    "# Setto il tipo delle numeriche a float (in modo che siano uniformi)\n",
    "X_train[num_features] = X_train[num_features].astype(float)"
   ]
  },
  {
   "cell_type": "markdown",
   "metadata": {},
   "source": [
    "Applico One-Hot Encoder alle categoriche:"
   ]
  },
  {
   "cell_type": "code",
   "execution_count": 188,
   "metadata": {},
   "outputs": [
    {
     "data": {
      "text/html": [
       "<div>\n",
       "<style scoped>\n",
       "    .dataframe tbody tr th:only-of-type {\n",
       "        vertical-align: middle;\n",
       "    }\n",
       "\n",
       "    .dataframe tbody tr th {\n",
       "        vertical-align: top;\n",
       "    }\n",
       "\n",
       "    .dataframe thead th {\n",
       "        text-align: right;\n",
       "    }\n",
       "</style>\n",
       "<table border=\"1\" class=\"dataframe\">\n",
       "  <thead>\n",
       "    <tr style=\"text-align: right;\">\n",
       "      <th></th>\n",
       "      <th>Dst Port_0</th>\n",
       "      <th>Dst Port_21</th>\n",
       "      <th>Dst Port_22</th>\n",
       "      <th>Dst Port_80</th>\n",
       "      <th>Dst Port_Other</th>\n",
       "      <th>Protocol_0</th>\n",
       "      <th>Protocol_17</th>\n",
       "      <th>Protocol_6</th>\n",
       "      <th>Fwd PSH Flags_0</th>\n",
       "      <th>Fwd PSH Flags_1</th>\n",
       "      <th>...</th>\n",
       "      <th>ACK Flag Cnt_0</th>\n",
       "      <th>ACK Flag Cnt_1</th>\n",
       "      <th>URG Flag Cnt_0</th>\n",
       "      <th>URG Flag Cnt_1</th>\n",
       "      <th>ECE Flag Cnt_0</th>\n",
       "      <th>ECE Flag Cnt_1</th>\n",
       "      <th>Down/Up Ratio_0</th>\n",
       "      <th>Down/Up Ratio_1</th>\n",
       "      <th>Down/Up Ratio_2</th>\n",
       "      <th>Down/Up Ratio_3</th>\n",
       "    </tr>\n",
       "  </thead>\n",
       "  <tbody>\n",
       "    <tr>\n",
       "      <th>140876</th>\n",
       "      <td>0.0</td>\n",
       "      <td>0.0</td>\n",
       "      <td>0.0</td>\n",
       "      <td>0.0</td>\n",
       "      <td>1.0</td>\n",
       "      <td>0.0</td>\n",
       "      <td>0.0</td>\n",
       "      <td>1.0</td>\n",
       "      <td>1.0</td>\n",
       "      <td>0.0</td>\n",
       "      <td>...</td>\n",
       "      <td>0.0</td>\n",
       "      <td>1.0</td>\n",
       "      <td>1.0</td>\n",
       "      <td>0.0</td>\n",
       "      <td>1.0</td>\n",
       "      <td>0.0</td>\n",
       "      <td>1.0</td>\n",
       "      <td>0.0</td>\n",
       "      <td>0.0</td>\n",
       "      <td>0.0</td>\n",
       "    </tr>\n",
       "    <tr>\n",
       "      <th>556503</th>\n",
       "      <td>0.0</td>\n",
       "      <td>0.0</td>\n",
       "      <td>0.0</td>\n",
       "      <td>1.0</td>\n",
       "      <td>0.0</td>\n",
       "      <td>0.0</td>\n",
       "      <td>0.0</td>\n",
       "      <td>1.0</td>\n",
       "      <td>1.0</td>\n",
       "      <td>0.0</td>\n",
       "      <td>...</td>\n",
       "      <td>0.0</td>\n",
       "      <td>1.0</td>\n",
       "      <td>1.0</td>\n",
       "      <td>0.0</td>\n",
       "      <td>1.0</td>\n",
       "      <td>0.0</td>\n",
       "      <td>1.0</td>\n",
       "      <td>0.0</td>\n",
       "      <td>0.0</td>\n",
       "      <td>0.0</td>\n",
       "    </tr>\n",
       "    <tr>\n",
       "      <th>86817</th>\n",
       "      <td>0.0</td>\n",
       "      <td>1.0</td>\n",
       "      <td>0.0</td>\n",
       "      <td>0.0</td>\n",
       "      <td>0.0</td>\n",
       "      <td>0.0</td>\n",
       "      <td>0.0</td>\n",
       "      <td>1.0</td>\n",
       "      <td>1.0</td>\n",
       "      <td>0.0</td>\n",
       "      <td>...</td>\n",
       "      <td>1.0</td>\n",
       "      <td>0.0</td>\n",
       "      <td>1.0</td>\n",
       "      <td>0.0</td>\n",
       "      <td>1.0</td>\n",
       "      <td>0.0</td>\n",
       "      <td>0.0</td>\n",
       "      <td>1.0</td>\n",
       "      <td>0.0</td>\n",
       "      <td>0.0</td>\n",
       "    </tr>\n",
       "    <tr>\n",
       "      <th>631626</th>\n",
       "      <td>0.0</td>\n",
       "      <td>0.0</td>\n",
       "      <td>0.0</td>\n",
       "      <td>0.0</td>\n",
       "      <td>1.0</td>\n",
       "      <td>0.0</td>\n",
       "      <td>0.0</td>\n",
       "      <td>1.0</td>\n",
       "      <td>1.0</td>\n",
       "      <td>0.0</td>\n",
       "      <td>...</td>\n",
       "      <td>0.0</td>\n",
       "      <td>1.0</td>\n",
       "      <td>0.0</td>\n",
       "      <td>1.0</td>\n",
       "      <td>1.0</td>\n",
       "      <td>0.0</td>\n",
       "      <td>1.0</td>\n",
       "      <td>0.0</td>\n",
       "      <td>0.0</td>\n",
       "      <td>0.0</td>\n",
       "    </tr>\n",
       "    <tr>\n",
       "      <th>389087</th>\n",
       "      <td>0.0</td>\n",
       "      <td>0.0</td>\n",
       "      <td>0.0</td>\n",
       "      <td>1.0</td>\n",
       "      <td>0.0</td>\n",
       "      <td>0.0</td>\n",
       "      <td>0.0</td>\n",
       "      <td>1.0</td>\n",
       "      <td>1.0</td>\n",
       "      <td>0.0</td>\n",
       "      <td>...</td>\n",
       "      <td>0.0</td>\n",
       "      <td>1.0</td>\n",
       "      <td>1.0</td>\n",
       "      <td>0.0</td>\n",
       "      <td>1.0</td>\n",
       "      <td>0.0</td>\n",
       "      <td>1.0</td>\n",
       "      <td>0.0</td>\n",
       "      <td>0.0</td>\n",
       "      <td>0.0</td>\n",
       "    </tr>\n",
       "  </tbody>\n",
       "</table>\n",
       "<p>5 rows × 28 columns</p>\n",
       "</div>"
      ],
      "text/plain": [
       "        Dst Port_0  Dst Port_21  Dst Port_22  Dst Port_80  Dst Port_Other   \n",
       "140876         0.0          0.0          0.0          0.0             1.0  \\\n",
       "556503         0.0          0.0          0.0          1.0             0.0   \n",
       "86817          0.0          1.0          0.0          0.0             0.0   \n",
       "631626         0.0          0.0          0.0          0.0             1.0   \n",
       "389087         0.0          0.0          0.0          1.0             0.0   \n",
       "\n",
       "        Protocol_0  Protocol_17  Protocol_6  Fwd PSH Flags_0  Fwd PSH Flags_1   \n",
       "140876         0.0          0.0         1.0              1.0              0.0  \\\n",
       "556503         0.0          0.0         1.0              1.0              0.0   \n",
       "86817          0.0          0.0         1.0              1.0              0.0   \n",
       "631626         0.0          0.0         1.0              1.0              0.0   \n",
       "389087         0.0          0.0         1.0              1.0              0.0   \n",
       "\n",
       "        ...  ACK Flag Cnt_0  ACK Flag Cnt_1  URG Flag Cnt_0  URG Flag Cnt_1   \n",
       "140876  ...             0.0             1.0             1.0             0.0  \\\n",
       "556503  ...             0.0             1.0             1.0             0.0   \n",
       "86817   ...             1.0             0.0             1.0             0.0   \n",
       "631626  ...             0.0             1.0             0.0             1.0   \n",
       "389087  ...             0.0             1.0             1.0             0.0   \n",
       "\n",
       "        ECE Flag Cnt_0  ECE Flag Cnt_1  Down/Up Ratio_0  Down/Up Ratio_1   \n",
       "140876             1.0             0.0              1.0              0.0  \\\n",
       "556503             1.0             0.0              1.0              0.0   \n",
       "86817              1.0             0.0              0.0              1.0   \n",
       "631626             1.0             0.0              1.0              0.0   \n",
       "389087             1.0             0.0              1.0              0.0   \n",
       "\n",
       "        Down/Up Ratio_2  Down/Up Ratio_3  \n",
       "140876              0.0              0.0  \n",
       "556503              0.0              0.0  \n",
       "86817               0.0              0.0  \n",
       "631626              0.0              0.0  \n",
       "389087              0.0              0.0  \n",
       "\n",
       "[5 rows x 28 columns]"
      ]
     },
     "execution_count": 188,
     "metadata": {},
     "output_type": "execute_result"
    }
   ],
   "source": [
    "# Configuro One-Hot-Encoder in modo che mi venga restituito un pandas df\n",
    "cat_encoder = OneHotEncoder(handle_unknown='ignore', sparse_output=False).set_output(transform='pandas')\n",
    "\n",
    "# Inizializzo un DataFrame vuoto per concatenare i risultati\n",
    "encoded_features = pd.DataFrame(index=X_train.index)\n",
    "\n",
    "# Addestro l'encoder su tutte le feature categoriche \n",
    "cat_encoder.fit(X_train[cat_features])\n",
    "\n",
    "# Applico la trasformazione ad ogni feature categorica \n",
    "encoded_features = cat_encoder.transform(X_train[cat_features])\n",
    "\n",
    "# Visualizzo il risultato\n",
    "encoded_features.head()"
   ]
  },
  {
   "cell_type": "code",
   "execution_count": 189,
   "metadata": {},
   "outputs": [
    {
     "data": {
      "text/html": [
       "<div>\n",
       "<style scoped>\n",
       "    .dataframe tbody tr th:only-of-type {\n",
       "        vertical-align: middle;\n",
       "    }\n",
       "\n",
       "    .dataframe tbody tr th {\n",
       "        vertical-align: top;\n",
       "    }\n",
       "\n",
       "    .dataframe thead th {\n",
       "        text-align: right;\n",
       "    }\n",
       "</style>\n",
       "<table border=\"1\" class=\"dataframe\">\n",
       "  <thead>\n",
       "    <tr style=\"text-align: right;\">\n",
       "      <th></th>\n",
       "      <th>Timestamp</th>\n",
       "      <th>Flow Duration</th>\n",
       "      <th>Tot Fwd Pkts</th>\n",
       "      <th>Tot Bwd Pkts</th>\n",
       "      <th>TotLen Fwd Pkts</th>\n",
       "      <th>TotLen Bwd Pkts</th>\n",
       "      <th>Fwd Pkt Len Max</th>\n",
       "      <th>Fwd Pkt Len Min</th>\n",
       "      <th>Fwd Pkt Len Mean</th>\n",
       "      <th>Fwd Pkt Len Std</th>\n",
       "      <th>...</th>\n",
       "      <th>ACK Flag Cnt_0</th>\n",
       "      <th>ACK Flag Cnt_1</th>\n",
       "      <th>URG Flag Cnt_0</th>\n",
       "      <th>URG Flag Cnt_1</th>\n",
       "      <th>ECE Flag Cnt_0</th>\n",
       "      <th>ECE Flag Cnt_1</th>\n",
       "      <th>Down/Up Ratio_0</th>\n",
       "      <th>Down/Up Ratio_1</th>\n",
       "      <th>Down/Up Ratio_2</th>\n",
       "      <th>Down/Up Ratio_3</th>\n",
       "    </tr>\n",
       "  </thead>\n",
       "  <tbody>\n",
       "    <tr>\n",
       "      <th>140876</th>\n",
       "      <td>2018-02-16 01:45:31</td>\n",
       "      <td>5407218.0</td>\n",
       "      <td>5.0</td>\n",
       "      <td>3.0</td>\n",
       "      <td>935.0</td>\n",
       "      <td>364.0</td>\n",
       "      <td>935.0</td>\n",
       "      <td>0.0</td>\n",
       "      <td>187.0</td>\n",
       "      <td>418.144712</td>\n",
       "      <td>...</td>\n",
       "      <td>0.0</td>\n",
       "      <td>1.0</td>\n",
       "      <td>1.0</td>\n",
       "      <td>0.0</td>\n",
       "      <td>1.0</td>\n",
       "      <td>0.0</td>\n",
       "      <td>1.0</td>\n",
       "      <td>0.0</td>\n",
       "      <td>0.0</td>\n",
       "      <td>0.0</td>\n",
       "    </tr>\n",
       "    <tr>\n",
       "      <th>556503</th>\n",
       "      <td>2018-02-16 01:47:07</td>\n",
       "      <td>28735.0</td>\n",
       "      <td>2.0</td>\n",
       "      <td>0.0</td>\n",
       "      <td>0.0</td>\n",
       "      <td>0.0</td>\n",
       "      <td>0.0</td>\n",
       "      <td>0.0</td>\n",
       "      <td>0.0</td>\n",
       "      <td>0.000000</td>\n",
       "      <td>...</td>\n",
       "      <td>0.0</td>\n",
       "      <td>1.0</td>\n",
       "      <td>1.0</td>\n",
       "      <td>0.0</td>\n",
       "      <td>1.0</td>\n",
       "      <td>0.0</td>\n",
       "      <td>1.0</td>\n",
       "      <td>0.0</td>\n",
       "      <td>0.0</td>\n",
       "      <td>0.0</td>\n",
       "    </tr>\n",
       "    <tr>\n",
       "      <th>86817</th>\n",
       "      <td>2018-02-16 10:55:45</td>\n",
       "      <td>2.0</td>\n",
       "      <td>1.0</td>\n",
       "      <td>1.0</td>\n",
       "      <td>0.0</td>\n",
       "      <td>0.0</td>\n",
       "      <td>0.0</td>\n",
       "      <td>0.0</td>\n",
       "      <td>0.0</td>\n",
       "      <td>0.000000</td>\n",
       "      <td>...</td>\n",
       "      <td>1.0</td>\n",
       "      <td>0.0</td>\n",
       "      <td>1.0</td>\n",
       "      <td>0.0</td>\n",
       "      <td>1.0</td>\n",
       "      <td>0.0</td>\n",
       "      <td>0.0</td>\n",
       "      <td>1.0</td>\n",
       "      <td>0.0</td>\n",
       "      <td>0.0</td>\n",
       "    </tr>\n",
       "    <tr>\n",
       "      <th>631626</th>\n",
       "      <td>2018-02-16 01:47:19</td>\n",
       "      <td>4170386.0</td>\n",
       "      <td>5.0</td>\n",
       "      <td>4.0</td>\n",
       "      <td>935.0</td>\n",
       "      <td>382.0</td>\n",
       "      <td>935.0</td>\n",
       "      <td>0.0</td>\n",
       "      <td>187.0</td>\n",
       "      <td>418.144712</td>\n",
       "      <td>...</td>\n",
       "      <td>0.0</td>\n",
       "      <td>1.0</td>\n",
       "      <td>0.0</td>\n",
       "      <td>1.0</td>\n",
       "      <td>1.0</td>\n",
       "      <td>0.0</td>\n",
       "      <td>1.0</td>\n",
       "      <td>0.0</td>\n",
       "      <td>0.0</td>\n",
       "      <td>0.0</td>\n",
       "    </tr>\n",
       "    <tr>\n",
       "      <th>389087</th>\n",
       "      <td>2018-02-16 01:46:30</td>\n",
       "      <td>28200.0</td>\n",
       "      <td>2.0</td>\n",
       "      <td>0.0</td>\n",
       "      <td>0.0</td>\n",
       "      <td>0.0</td>\n",
       "      <td>0.0</td>\n",
       "      <td>0.0</td>\n",
       "      <td>0.0</td>\n",
       "      <td>0.000000</td>\n",
       "      <td>...</td>\n",
       "      <td>0.0</td>\n",
       "      <td>1.0</td>\n",
       "      <td>1.0</td>\n",
       "      <td>0.0</td>\n",
       "      <td>1.0</td>\n",
       "      <td>0.0</td>\n",
       "      <td>1.0</td>\n",
       "      <td>0.0</td>\n",
       "      <td>0.0</td>\n",
       "      <td>0.0</td>\n",
       "    </tr>\n",
       "  </tbody>\n",
       "</table>\n",
       "<p>5 rows × 89 columns</p>\n",
       "</div>"
      ],
      "text/plain": [
       "                 Timestamp  Flow Duration  Tot Fwd Pkts  Tot Bwd Pkts   \n",
       "140876 2018-02-16 01:45:31      5407218.0           5.0           3.0  \\\n",
       "556503 2018-02-16 01:47:07        28735.0           2.0           0.0   \n",
       "86817  2018-02-16 10:55:45            2.0           1.0           1.0   \n",
       "631626 2018-02-16 01:47:19      4170386.0           5.0           4.0   \n",
       "389087 2018-02-16 01:46:30        28200.0           2.0           0.0   \n",
       "\n",
       "        TotLen Fwd Pkts  TotLen Bwd Pkts  Fwd Pkt Len Max  Fwd Pkt Len Min   \n",
       "140876            935.0            364.0            935.0              0.0  \\\n",
       "556503              0.0              0.0              0.0              0.0   \n",
       "86817               0.0              0.0              0.0              0.0   \n",
       "631626            935.0            382.0            935.0              0.0   \n",
       "389087              0.0              0.0              0.0              0.0   \n",
       "\n",
       "        Fwd Pkt Len Mean  Fwd Pkt Len Std  ...  ACK Flag Cnt_0   \n",
       "140876             187.0       418.144712  ...             0.0  \\\n",
       "556503               0.0         0.000000  ...             0.0   \n",
       "86817                0.0         0.000000  ...             1.0   \n",
       "631626             187.0       418.144712  ...             0.0   \n",
       "389087               0.0         0.000000  ...             0.0   \n",
       "\n",
       "        ACK Flag Cnt_1  URG Flag Cnt_0  URG Flag Cnt_1  ECE Flag Cnt_0   \n",
       "140876             1.0             1.0             0.0             1.0  \\\n",
       "556503             1.0             1.0             0.0             1.0   \n",
       "86817              0.0             1.0             0.0             1.0   \n",
       "631626             1.0             0.0             1.0             1.0   \n",
       "389087             1.0             1.0             0.0             1.0   \n",
       "\n",
       "        ECE Flag Cnt_1  Down/Up Ratio_0  Down/Up Ratio_1  Down/Up Ratio_2   \n",
       "140876             0.0              1.0              0.0              0.0  \\\n",
       "556503             0.0              1.0              0.0              0.0   \n",
       "86817              0.0              0.0              1.0              0.0   \n",
       "631626             0.0              1.0              0.0              0.0   \n",
       "389087             0.0              1.0              0.0              0.0   \n",
       "\n",
       "        Down/Up Ratio_3  \n",
       "140876              0.0  \n",
       "556503              0.0  \n",
       "86817               0.0  \n",
       "631626              0.0  \n",
       "389087              0.0  \n",
       "\n",
       "[5 rows x 89 columns]"
      ]
     },
     "execution_count": 189,
     "metadata": {},
     "output_type": "execute_result"
    }
   ],
   "source": [
    "# Droppo le vecchie feature categoriche\n",
    "X_train_dropped = X_train.drop(columns=cat_features)\n",
    "\n",
    "# Concateno il vecchio DataFrame senza le feature categoriche con il nuovo DataFrame encodato\n",
    "X_train_encoded = pd.concat([X_train_dropped, encoded_features], axis=1)\n",
    "\n",
    "# Verifico\n",
    "X_train_encoded.head()"
   ]
  },
  {
   "cell_type": "markdown",
   "metadata": {},
   "source": [
    "# FEATURE SCALING  "
   ]
  },
  {
   "cell_type": "markdown",
   "metadata": {},
   "source": [
    "Applico _MinMaxScaler_ per normalizzare le feature del dataframe, scalando i valori di ciascuna colonna nell'intervallo compreso tra 0 e 1. La normalizzazione consente di ridurre l'influenza di scale diverse tra le variabili, migliorando le prestazioni degli algoritmi di machine learning e garantendo una convergenza più rapida durante l'addestramento."
   ]
  },
  {
   "cell_type": "code",
   "execution_count": 190,
   "metadata": {},
   "outputs": [],
   "source": [
    "from sklearn.preprocessing import MinMaxScaler"
   ]
  },
  {
   "cell_type": "code",
   "execution_count": 191,
   "metadata": {},
   "outputs": [],
   "source": [
    "# Seleziono solo le colonne numeriche nella copia del df, così da poterle visualizzare meglio sul grafico\n",
    "X_train_num = X_train_encoded.loc[:, num_features]"
   ]
  },
  {
   "cell_type": "markdown",
   "metadata": {},
   "source": [
    "Osservo le feature prima della standardizzazione:"
   ]
  },
  {
   "cell_type": "code",
   "execution_count": 192,
   "metadata": {},
   "outputs": [
    {
     "data": {
      "image/png": "[encoded data removed]",
      "text/plain": [
       "<Figure size 1200x500 with 1 Axes>"
      ]
     },
     "metadata": {},
     "output_type": "display_data"
    }
   ],
   "source": [
    "# Grafico dell'istogramma delle features originali\n",
    "plt.figure(figsize=(12, 5))\n",
    "plt.hist(X_train_num, bins=10, alpha=0.5, label='Original')\n",
    "plt.title('Distribuzione delle features originali')\n",
    "plt.xlabel('Valore')\n",
    "plt.ylabel('Frequenza')\n",
    "plt.legend()\n",
    "plt.show()"
   ]
  },
  {
   "cell_type": "markdown",
   "metadata": {},
   "source": [
    "Ora applico la standardizzazione:"
   ]
  },
  {
   "cell_type": "code",
   "execution_count": 193,
   "metadata": {},
   "outputs": [],
   "source": [
    "min_max_scaler = MinMaxScaler()\n",
    "X_train_encoded[num_features] = min_max_scaler.fit_transform(X_train_encoded[num_features])"
   ]
  },
  {
   "cell_type": "code",
   "execution_count": 194,
   "metadata": {},
   "outputs": [
    {
     "data": {
      "image/png": "[encoded data removed]",
      "text/plain": [
       "<Figure size 1200x500 with 1 Axes>"
      ]
     },
     "metadata": {},
     "output_type": "display_data"
    }
   ],
   "source": [
    "# Grafico dell'istogramma delle features standardizzate\n",
    "plt.figure(figsize=(12, 5))\n",
    "plt.hist(X_train_encoded[num_features], bins=10, alpha=0.5, label='Standardized')\n",
    "plt.title('Distribuzione delle features standardizzate')\n",
    "plt.xlabel('Valore standardizzato')\n",
    "plt.ylabel('Frequenza')\n",
    "plt.legend()\n",
    "plt.show()"
   ]
  },
  {
   "cell_type": "markdown",
   "metadata": {},
   "source": [
    "# FEATURE SELECTION"
   ]
  },
  {
   "cell_type": "markdown",
   "metadata": {},
   "source": [
    "Mediante eliminazione ricorsiva delle feature, utilizzando una random forest come classificatore, si ottiene questo sottoinsieme di 44 feature più significative:"
   ]
  },
  {
   "cell_type": "code",
   "execution_count": 195,
   "metadata": {},
   "outputs": [],
   "source": [
    "selected_features = [\n",
    "    'Flow Duration',\n",
    "    'Tot Fwd Pkts',\n",
    "    'Tot Bwd Pkts',\n",
    "    'TotLen Bwd Pkts',\n",
    "    'Fwd Pkt Len Max',\n",
    "    'Fwd Pkt Len Std',\n",
    "    'Bwd Pkt Len Max',\n",
    "    'Bwd Pkt Len Mean',\n",
    "    'Flow IAT Mean',\n",
    "    'Flow IAT Std',\n",
    "    'Flow IAT Max',\n",
    "    'Fwd IAT Tot',\n",
    "    'Fwd IAT Mean',\n",
    "    'Fwd IAT Std',\n",
    "    'Fwd IAT Max',\n",
    "    'Bwd IAT Tot',\n",
    "    'Bwd IAT Mean',\n",
    "    'Bwd IAT Max',\n",
    "    'Fwd Header Len',\n",
    "    'Bwd Header Len',\n",
    "    'Fwd Pkts/s',\n",
    "    'Bwd Pkts/s',\n",
    "    'Pkt Len Max',\n",
    "    'Pkt Len Std',\n",
    "    'Pkt Size Avg',\n",
    "    'Bwd Seg Size Avg',\n",
    "    'Subflow Fwd Pkts',\n",
    "    'Subflow Bwd Pkts',\n",
    "    'Subflow Bwd Byts',\n",
    "    'Fwd Seg Size Min',\n",
    "    'Active Min',\n",
    "    'Idle Mean',\n",
    "    'Idle Max',\n",
    "    'Idle Min',\n",
    "    'Dst Port_22',\n",
    "    'Dst Port_80',\n",
    "    'Dst Port_Other',\n",
    "    'Fwd PSH Flags_1',\n",
    "    'FIN Flag Cnt_1',\n",
    "    'SYN Flag Cnt_1',\n",
    "    'PSH Flag Cnt_0',\n",
    "    'PSH Flag Cnt_1',\n",
    "    'ACK Flag Cnt_1',\n",
    "    'ECE Flag Cnt_0'\n",
    "]"
   ]
  },
  {
   "cell_type": "code",
   "execution_count": 196,
   "metadata": {},
   "outputs": [
    {
     "data": {
      "text/plain": [
       "44"
      ]
     },
     "execution_count": 196,
     "metadata": {},
     "output_type": "execute_result"
    }
   ],
   "source": [
    "len(selected_features)"
   ]
  },
  {
   "cell_type": "code",
   "execution_count": 197,
   "metadata": {},
   "outputs": [],
   "source": [
    "# Creo un nuovo DataFrame df che contiene solo le colonne specificate (allo stesso tempo quindi droppo la feature dei target)\n",
    "X_train_encoded = X_train_encoded[selected_features]"
   ]
  },
  {
   "cell_type": "markdown",
   "metadata": {},
   "source": [
    "# TRANSFORMATION PIPELINE "
   ]
  },
  {
   "cell_type": "markdown",
   "metadata": {},
   "source": [
    "Definisco una funzione che ripercorre le trasformazioni applicate al set di addestramento, in modo da effettuare la stessa pipeline di pre-processamento anche al set di test e di validazione:"
   ]
  },
  {
   "cell_type": "code",
   "execution_count": 198,
   "metadata": {},
   "outputs": [],
   "source": [
    "def preprocess_data(set):\n",
    "\n",
    "    # Applico la funzione alla colonna 'Dst Port' del DataFrame\n",
    "    set['Dst Port'] = set['Dst Port'].apply(trasforma_dst_port)\n",
    "\n",
    "    # Rimuovo le colonne che contengono un unico valore ripetuto\n",
    "    set = set.drop('Bwd PSH Flags', axis=1)\n",
    "    set = set.drop('Fwd URG Flags', axis=1)\n",
    "    set = set.drop('Bwd URG Flags', axis=1)\n",
    "    set = set.drop('CWE Flag Count', axis=1)\n",
    "    set = set.drop('Fwd Blk Rate Avg', axis=1)\n",
    "    set = set.drop('Bwd Blk Rate Avg', axis=1)\n",
    "    set = set.drop('Bwd Pkts/b Avg', axis=1)\n",
    "    set = set.drop('Bwd Byts/b Avg', axis=1)\n",
    "\n",
    "    # Setto il tipo delle numeriche a float (in modo che siano uniformi)\n",
    "    set[num_features] = set[num_features].astype(float)\n",
    "\n",
    "    # Inizializzo un DataFrame vuoto per concatenare i risultati\n",
    "    encoded_features_preprocess = pd.DataFrame(index=set.index)\n",
    "\n",
    "    # Applico la trasformazione ad ogni feature categorica \n",
    "    encoded_features_preprocess = cat_encoder.transform(set[cat_features])\n",
    "\n",
    "    # Droppo le vecchie feature categoriche\n",
    "    set_dropped = set.drop(columns=cat_features)\n",
    "\n",
    "    # Concateno il vecchio DataFrame senza le feature categoriche con il nuovo DataFrame encodato\n",
    "    set_encoded = pd.concat([set_dropped, encoded_features_preprocess], axis=1)\n",
    "\n",
    "    # Applico la standardizzazione\n",
    "    set_encoded[num_features] = min_max_scaler.transform(set_encoded[num_features])\n",
    "\n",
    "    # Creo un nuovo DataFrame df che contiene solo le colonne specificate (allo stesso tempo quindi droppo la feature dei target)\n",
    "    set_encoded = set_encoded[selected_features]\n",
    "\n",
    "    return set_encoded"
   ]
  },
  {
   "cell_type": "code",
   "execution_count": 199,
   "metadata": {},
   "outputs": [],
   "source": [
    "# Applico la funzione di preprocessing sia al test set che al validation set\n",
    "train_set_processed = X_train_encoded\n",
    "val_set_processed = preprocess_data(X_val)\n",
    "test_set_processed = preprocess_data(X_test)"
   ]
  },
  {
   "cell_type": "markdown",
   "metadata": {},
   "source": [
    "# CHECKING LABEL DISTRIBUTION"
   ]
  },
  {
   "cell_type": "markdown",
   "metadata": {},
   "source": [
    "Controllo che i target siano ben distribuiti fra tutti i set:"
   ]
  },
  {
   "cell_type": "code",
   "execution_count": 200,
   "metadata": {},
   "outputs": [
    {
     "name": "stdout",
     "output_type": "stream",
     "text": [
      "Training set:\n",
      "\n",
      "Benign: 42.61%\n",
      "DoS attacks-Hulk: 44.06%\n",
      "DoS attacks-SlowHTTPTest: 13.33%\n",
      "---------------\n",
      "Validation set:\n",
      "\n",
      "Benign: 42.59%\n",
      "DoS attacks-Hulk: 44.07%\n",
      "DoS attacks-SlowHTTPTest: 13.35%\n",
      "---------------\n",
      "Test set:\n",
      "\n",
      "Benign: 42.62%\n",
      "DoS attacks-Hulk: 44.02%\n",
      "DoS attacks-SlowHTTPTest: 13.36%\n",
      "---------------\n"
     ]
    }
   ],
   "source": [
    "# Calcolo la percentuale di istanze benigne e maligne per ogni set\n",
    "def print_percentage(labels, label_encoder):\n",
    "\n",
    "    # Decodifico le etichette\n",
    "    decoded_labels = label_encoder.inverse_transform(np.argmax(labels, axis=1))\n",
    "    \n",
    "    # Calcolo le percentuali\n",
    "    unique, counts = np.unique(decoded_labels, return_counts=True)\n",
    "    total_instances = len(decoded_labels)\n",
    "    percentages = {category: (count / total_instances) * 100 for category, count in zip(unique, counts)}\n",
    "    \n",
    "    # Stamp le percentuali\n",
    "    for category, percentage in percentages.items():\n",
    "        print(f\"{category}: {percentage:.2f}%\")\n",
    "    print(\"---------------\")\n",
    "\n",
    "# Stampo le percentuali per ogni set\n",
    "print(\"Training set:\\n\")\n",
    "print_percentage(y_train_categorical, tts_encoder)\n",
    "\n",
    "print(\"Validation set:\\n\")\n",
    "print_percentage(y_val_categorical, tts_encoder)\n",
    "\n",
    "print(\"Test set:\\n\")\n",
    "print_percentage(y_test_categorical, tts_encoder)\n"
   ]
  },
  {
   "cell_type": "markdown",
   "metadata": {},
   "source": [
    "La distribuzione sembra ben bilanciata, posso procedere."
   ]
  },
  {
   "cell_type": "markdown",
   "metadata": {},
   "source": [
    "# SELECT AND TRAIN A MODEL"
   ]
  },
  {
   "cell_type": "markdown",
   "metadata": {},
   "source": [
    "Definisco il modello che userò per addestrare la LSTM:"
   ]
  },
  {
   "cell_type": "code",
   "execution_count": 201,
   "metadata": {},
   "outputs": [],
   "source": [
    "import tensorflow as tf\n",
    "\n",
    "tf.random.set_seed(42)\n",
    "\n",
    "def build_model(input_shape):\n",
    "\n",
    "    # LSTM model\n",
    "    model = tf.keras.Sequential([\n",
    "        tf.keras.Input(shape=input_shape),\n",
    "        tf.keras.layers.LSTM(64, return_sequences=True),\n",
    "        tf.keras.layers.LSTM(64, return_sequences=True),\n",
    "        tf.keras.layers.LSTM(32, return_sequences=True),\n",
    "        tf.keras.layers.LSTM(32),\n",
    "        tf.keras.layers.Dense(len(tts_encoder.classes_), activation='softmax')  \n",
    "    ])\n",
    "\n",
    "    model.compile(loss='categorical_crossentropy',      # categorical perchè le etichette sono one-hot\n",
    "              optimizer='adam',\n",
    "              metrics=['accuracy'])\n",
    "\n",
    "    return model"
   ]
  },
  {
   "cell_type": "markdown",
   "metadata": {},
   "source": [
    "## TRAIN_TEST_SPLIT"
   ]
  },
  {
   "cell_type": "markdown",
   "metadata": {},
   "source": [
    "Quando configuro la input_shape nel modello, occorre specificare solo le dimensioni (timesteps, features) perché batch_size viene gestito automaticamente durante l'addestramento. \n",
    "Essendo i dati inizialmente in formato 2D (ogni riga rappresenta un campione con 44 feature), la loro forma è (batch_size, 44). "
   ]
  },
  {
   "cell_type": "markdown",
   "metadata": {},
   "source": [
    "Tuttavia, le LSTM richiedono dati di input in formato 3D con la forma (batch_size, timesteps, features), dunque occorre espandere la dimensione dei dati per far sì che ogni campione abbia una dimensione temporale esplicita."
   ]
  },
  {
   "cell_type": "code",
   "execution_count": 202,
   "metadata": {},
   "outputs": [],
   "source": [
    "# Aggiungo una dimensione ai dati di input per soddisfare la forma attesa dall'LSTM (batch_size, timesteps, feature per timestep)\n",
    "X_train_reshaped = np.expand_dims(train_set_processed, axis=1)\n",
    "X_val_reshaped = np.expand_dims(val_set_processed, axis=1)\n",
    "X_test_reshaped = np.expand_dims(test_set_processed, axis=1)"
   ]
  },
  {
   "cell_type": "markdown",
   "metadata": {},
   "source": [
    "### SELECT THE TIMESTEPS VALUE"
   ]
  },
  {
   "cell_type": "markdown",
   "metadata": {},
   "source": [
    "Analizzo la dimensione del dataset completo per decidere il valore da assegnare al parametro _timesteps_:"
   ]
  },
  {
   "cell_type": "code",
   "execution_count": 203,
   "metadata": {},
   "outputs": [
    {
     "data": {
      "text/plain": [
       "1048574"
      ]
     },
     "execution_count": 203,
     "metadata": {},
     "output_type": "execute_result"
    }
   ],
   "source": [
    "df.shape[0]"
   ]
  },
  {
   "cell_type": "markdown",
   "metadata": {},
   "source": [
    "Di seguito provo vari valori per capire quale finestra temporale sia la più adatta al modello. Proseguirò in termini di numero di campioni (osservazioni), invece che in termini temporali."
   ]
  },
  {
   "cell_type": "markdown",
   "metadata": {},
   "source": [
    "#### MODEL 1 (timesteps = 24.000)"
   ]
  },
  {
   "cell_type": "code",
   "execution_count": 204,
   "metadata": {},
   "outputs": [],
   "source": [
    "input_shape_24000 = (24000, len(selected_features)) \n",
    "\n",
    "model_24000 = build_model(input_shape_24000)"
   ]
  },
  {
   "cell_type": "code",
   "execution_count": 205,
   "metadata": {},
   "outputs": [
    {
     "name": "stdout",
     "output_type": "stream",
     "text": [
      "Epoch 1/5\n"
     ]
    },
    {
     "name": "stdout",
     "output_type": "stream",
     "text": [
      "\u001b[1m9831/9831\u001b[0m \u001b[32m━━━━━━━━━━━━━━━━━━━━\u001b[0m\u001b[37m\u001b[0m \u001b[1m28s\u001b[0m 3ms/step - accuracy: 0.4737 - loss: 0.8683 - val_accuracy: 0.4841 - val_loss: 0.8408\n",
      "Epoch 2/5\n",
      "\u001b[1m9831/9831\u001b[0m \u001b[32m━━━━━━━━━━━━━━━━━━━━\u001b[0m\u001b[37m\u001b[0m \u001b[1m25s\u001b[0m 3ms/step - accuracy: 0.4802 - loss: 0.8398 - val_accuracy: 0.4836 - val_loss: 0.8358\n",
      "Epoch 3/5\n",
      "\u001b[1m9831/9831\u001b[0m \u001b[32m━━━━━━━━━━━━━━━━━━━━\u001b[0m\u001b[37m\u001b[0m \u001b[1m25s\u001b[0m 2ms/step - accuracy: 0.4811 - loss: 0.8356 - val_accuracy: 0.4838 - val_loss: 0.8303\n",
      "Epoch 4/5\n",
      "\u001b[1m9831/9831\u001b[0m \u001b[32m━━━━━━━━━━━━━━━━━━━━\u001b[0m\u001b[37m\u001b[0m \u001b[1m25s\u001b[0m 3ms/step - accuracy: 0.4823 - loss: 0.8316 - val_accuracy: 0.4839 - val_loss: 0.8245\n",
      "\u001b[1m6554/6554\u001b[0m \u001b[32m━━━━━━━━━━━━━━━━━━━━\u001b[0m\u001b[37m\u001b[0m \u001b[1m5s\u001b[0m 815us/step - accuracy: 0.4836 - loss: 0.8407\n",
      "Validation Accuracy: 48.41%\n"
     ]
    }
   ],
   "source": [
    "# Definisco una callbacks early stopping\n",
    "early_stopping_cb = tf.keras.callbacks.EarlyStopping(monitor=\"val_accuracy\", patience=3, restore_best_weights=True)\n",
    "\n",
    "# Addestro il modello usando i dati preprocessati\n",
    "history = model_24000.fit(X_train_reshaped, y_train_categorical, epochs=5, batch_size=64, validation_data=(X_val_reshaped, y_val_categorical), callbacks=[early_stopping_cb])\n",
    "\n",
    "# Valuto l'accuratezza del modello sui dati di validazione\n",
    "valid_loss, valid_acc = model_24000.evaluate(X_val_reshaped, y_val_categorical)\n",
    "print(f'Validation Accuracy: {valid_acc * 100:.2f}%')"
   ]
  },
  {
   "cell_type": "code",
   "execution_count": 206,
   "metadata": {},
   "outputs": [
    {
     "name": "stdout",
     "output_type": "stream",
     "text": [
      "\u001b[1m 180/6554\u001b[0m \u001b[37m━━━━━━━━━━━━━━━━━━━━\u001b[0m \u001b[1m5s\u001b[0m 846us/step - accuracy: 0.4989 - loss: 0.8301"
     ]
    },
    {
     "name": "stdout",
     "output_type": "stream",
     "text": [
      "\u001b[1m6554/6554\u001b[0m \u001b[32m━━━━━━━━━━━━━━━━━━━━\u001b[0m\u001b[37m\u001b[0m \u001b[1m5s\u001b[0m 797us/step - accuracy: 0.4850 - loss: 0.8402\n",
      "Test Accuracy: 48.44%\n"
     ]
    }
   ],
   "source": [
    "# Valuto l'accuratezza del modello sui dati del test set\n",
    "test_loss, test_acc = model_24000.evaluate(X_test_reshaped, y_test_categorical)\n",
    "print(\"Test Accuracy: {:.2f}%\".format(test_acc * 100))"
   ]
  },
  {
   "cell_type": "markdown",
   "metadata": {},
   "source": [
    "#### MODEL 2 (timesteps = 1456)"
   ]
  },
  {
   "cell_type": "markdown",
   "metadata": {},
   "source": [
    "Scelgo di utilizzare una finestra temporale di 1 minuto, in modo da cogliere eventuali pattern significativi che andrebbero persi con finestre più ampie. Il numero di osservazioni che costituiscono il dataset è di 1048574, lo divido per il numero di minuti totali trascorsi a effettuare le osservazioni (12 ore = 720 min) e ottengo il mio valore di timesteps = 1456 "
   ]
  },
  {
   "cell_type": "code",
   "execution_count": 207,
   "metadata": {},
   "outputs": [],
   "source": [
    "input_shape_1400 = (1456, len(selected_features)) \n",
    "\n",
    "model_1400 = build_model(input_shape_1400)"
   ]
  },
  {
   "cell_type": "code",
   "execution_count": 208,
   "metadata": {},
   "outputs": [
    {
     "name": "stdout",
     "output_type": "stream",
     "text": [
      "Epoch 1/5\n"
     ]
    },
    {
     "name": "stdout",
     "output_type": "stream",
     "text": [
      "\u001b[1m9831/9831\u001b[0m \u001b[32m━━━━━━━━━━━━━━━━━━━━\u001b[0m\u001b[37m\u001b[0m \u001b[1m28s\u001b[0m 3ms/step - accuracy: 0.4732 - loss: 0.8685 - val_accuracy: 0.4840 - val_loss: 0.8407\n",
      "Epoch 2/5\n",
      "\u001b[1m9831/9831\u001b[0m \u001b[32m━━━━━━━━━━━━━━━━━━━━\u001b[0m\u001b[37m\u001b[0m \u001b[1m25s\u001b[0m 3ms/step - accuracy: 0.4807 - loss: 0.8396 - val_accuracy: 0.4839 - val_loss: 0.8353\n",
      "Epoch 3/5\n",
      "\u001b[1m9831/9831\u001b[0m \u001b[32m━━━━━━━━━━━━━━━━━━━━\u001b[0m\u001b[37m\u001b[0m \u001b[1m25s\u001b[0m 3ms/step - accuracy: 0.4812 - loss: 0.8359 - val_accuracy: 0.4843 - val_loss: 0.8322\n",
      "Epoch 4/5\n",
      "\u001b[1m9831/9831\u001b[0m \u001b[32m━━━━━━━━━━━━━━━━━━━━\u001b[0m\u001b[37m\u001b[0m \u001b[1m25s\u001b[0m 3ms/step - accuracy: 0.4827 - loss: 0.8331 - val_accuracy: 0.4825 - val_loss: 0.8273\n",
      "Epoch 5/5\n",
      "\u001b[1m9831/9831\u001b[0m \u001b[32m━━━━━━━━━━━━━━━━━━━━\u001b[0m\u001b[37m\u001b[0m \u001b[1m25s\u001b[0m 3ms/step - accuracy: 0.4826 - loss: 0.8304 - val_accuracy: 0.4850 - val_loss: 0.8288\n",
      "\u001b[1m6554/6554\u001b[0m \u001b[32m━━━━━━━━━━━━━━━━━━━━\u001b[0m\u001b[37m\u001b[0m \u001b[1m5s\u001b[0m 821us/step - accuracy: 0.4841 - loss: 0.8290\n",
      "Validation Accuracy: 48.50%\n"
     ]
    }
   ],
   "source": [
    "# Definisco una callbacks early stopping\n",
    "early_stopping_cb = tf.keras.callbacks.EarlyStopping(monitor=\"val_accuracy\", patience=3, restore_best_weights=True)\n",
    "\n",
    "# Addestro il modello usando i dati preprocessati\n",
    "history = model_1400.fit(X_train_reshaped, y_train_categorical, epochs=5, batch_size=64, validation_data=(X_val_reshaped, y_val_categorical), callbacks=[early_stopping_cb])\n",
    "\n",
    "# Valuto l'accuratezza del modello sui dati di validazione\n",
    "valid_loss, valid_acc = model_1400.evaluate(X_val_reshaped, y_val_categorical)\n",
    "print(f'Validation Accuracy: {valid_acc * 100:.2f}%')"
   ]
  },
  {
   "cell_type": "code",
   "execution_count": 209,
   "metadata": {},
   "outputs": [
    {
     "name": "stdout",
     "output_type": "stream",
     "text": [
      "\u001b[1m 244/6554\u001b[0m \u001b[37m━━━━━━━━━━━━━━━━━━━━\u001b[0m \u001b[1m5s\u001b[0m 829us/step - accuracy: 0.4914 - loss: 0.8221"
     ]
    },
    {
     "name": "stdout",
     "output_type": "stream",
     "text": [
      "\u001b[1m6554/6554\u001b[0m \u001b[32m━━━━━━━━━━━━━━━━━━━━\u001b[0m\u001b[37m\u001b[0m \u001b[1m5s\u001b[0m 821us/step - accuracy: 0.4853 - loss: 0.8282\n",
      "Test Accuracy: 48.58%\n"
     ]
    }
   ],
   "source": [
    "# Valuto l'accuratezza del modello sui dati del test set\n",
    "test_loss, test_acc = model_1400.evaluate(X_test_reshaped, y_test_categorical)\n",
    "print(\"Test Accuracy: {:.2f}%\".format(test_acc * 100))"
   ]
  },
  {
   "cell_type": "markdown",
   "metadata": {},
   "source": [
    "#### MODEL 3 (timesteps = 500)"
   ]
  },
  {
   "cell_type": "code",
   "execution_count": 210,
   "metadata": {},
   "outputs": [],
   "source": [
    "input_shape_500 = (500, len(selected_features)) \n",
    "\n",
    "model_500 = build_model(input_shape_500)"
   ]
  },
  {
   "cell_type": "code",
   "execution_count": 211,
   "metadata": {},
   "outputs": [
    {
     "name": "stdout",
     "output_type": "stream",
     "text": [
      "Epoch 1/5\n"
     ]
    },
    {
     "name": "stdout",
     "output_type": "stream",
     "text": [
      "\u001b[1m9831/9831\u001b[0m \u001b[32m━━━━━━━━━━━━━━━━━━━━\u001b[0m\u001b[37m\u001b[0m \u001b[1m28s\u001b[0m 3ms/step - accuracy: 0.4734 - loss: 0.8676 - val_accuracy: 0.4841 - val_loss: 0.8413\n",
      "Epoch 2/5\n",
      "\u001b[1m9831/9831\u001b[0m \u001b[32m━━━━━━━━━━━━━━━━━━━━\u001b[0m\u001b[37m\u001b[0m \u001b[1m25s\u001b[0m 3ms/step - accuracy: 0.4802 - loss: 0.8398 - val_accuracy: 0.4836 - val_loss: 0.8355\n",
      "Epoch 3/5\n",
      "\u001b[1m9831/9831\u001b[0m \u001b[32m━━━━━━━━━━━━━━━━━━━━\u001b[0m\u001b[37m\u001b[0m \u001b[1m25s\u001b[0m 3ms/step - accuracy: 0.4813 - loss: 0.8360 - val_accuracy: 0.4841 - val_loss: 0.8320\n",
      "Epoch 4/5\n",
      "\u001b[1m9831/9831\u001b[0m \u001b[32m━━━━━━━━━━━━━━━━━━━━\u001b[0m\u001b[37m\u001b[0m \u001b[1m25s\u001b[0m 3ms/step - accuracy: 0.4826 - loss: 0.8330 - val_accuracy: 0.4848 - val_loss: 0.8266\n",
      "Epoch 5/5\n",
      "\u001b[1m9831/9831\u001b[0m \u001b[32m━━━━━━━━━━━━━━━━━━━━\u001b[0m\u001b[37m\u001b[0m \u001b[1m25s\u001b[0m 3ms/step - accuracy: 0.4821 - loss: 0.8300 - val_accuracy: 0.4862 - val_loss: 0.8251\n",
      "\u001b[1m6554/6554\u001b[0m \u001b[32m━━━━━━━━━━━━━━━━━━━━\u001b[0m\u001b[37m\u001b[0m \u001b[1m5s\u001b[0m 815us/step - accuracy: 0.4859 - loss: 0.8252\n",
      "Validation Accuracy: 48.62%\n"
     ]
    }
   ],
   "source": [
    "# Definisco una callbacks early stopping\n",
    "early_stopping_cb = tf.keras.callbacks.EarlyStopping(monitor=\"val_accuracy\", patience=5, restore_best_weights=True)\n",
    "\n",
    "# Addestro il modello usando i dati preprocessati\n",
    "history = model_500.fit(X_train_reshaped, y_train_categorical, epochs=5, batch_size=64, validation_data=(X_val_reshaped, y_val_categorical), callbacks=[early_stopping_cb])\n",
    "\n",
    "# Valuto l'accuratezza del modello sui dati di validazione\n",
    "valid_loss, valid_acc = model_500.evaluate(X_val_reshaped, y_val_categorical)\n",
    "print(f'Validation Accuracy: {valid_acc * 100:.2f}%')"
   ]
  },
  {
   "cell_type": "code",
   "execution_count": 212,
   "metadata": {},
   "outputs": [
    {
     "name": "stdout",
     "output_type": "stream",
     "text": [
      "\u001b[1m 324/6554\u001b[0m \u001b[37m━━━━━━━━━━━━━━━━━━━━\u001b[0m \u001b[1m4s\u001b[0m 781us/step - accuracy: 0.4989 - loss: 0.8193"
     ]
    },
    {
     "name": "stdout",
     "output_type": "stream",
     "text": [
      "\u001b[1m6554/6554\u001b[0m \u001b[32m━━━━━━━━━━━━━━━━━━━━\u001b[0m\u001b[37m\u001b[0m \u001b[1m5s\u001b[0m 799us/step - accuracy: 0.4879 - loss: 0.8245\n",
      "Test Accuracy: 48.75%\n"
     ]
    }
   ],
   "source": [
    "# Valuto l'accuratezza del modello sui dati del test set\n",
    "test_loss, test_acc = model_500.evaluate(X_test_reshaped, y_test_categorical)\n",
    "print(\"Test Accuracy: {:.2f}%\".format(test_acc * 100))"
   ]
  },
  {
   "cell_type": "markdown",
   "metadata": {},
   "source": [
    "#### MODEL 4 (timesteps = 250)"
   ]
  },
  {
   "cell_type": "code",
   "execution_count": 213,
   "metadata": {},
   "outputs": [],
   "source": [
    "input_shape_250 = (250, len(selected_features)) \n",
    "\n",
    "model_250 = build_model(input_shape_250)"
   ]
  },
  {
   "cell_type": "code",
   "execution_count": 214,
   "metadata": {},
   "outputs": [
    {
     "name": "stdout",
     "output_type": "stream",
     "text": [
      "Epoch 1/5\n"
     ]
    },
    {
     "name": "stdout",
     "output_type": "stream",
     "text": [
      "\u001b[1m9831/9831\u001b[0m \u001b[32m━━━━━━━━━━━━━━━━━━━━\u001b[0m\u001b[37m\u001b[0m \u001b[1m28s\u001b[0m 3ms/step - accuracy: 0.4736 - loss: 0.8683 - val_accuracy: 0.4841 - val_loss: 0.8410\n",
      "Epoch 2/5\n",
      "\u001b[1m9831/9831\u001b[0m \u001b[32m━━━━━━━━━━━━━━━━━━━━\u001b[0m\u001b[37m\u001b[0m \u001b[1m25s\u001b[0m 3ms/step - accuracy: 0.4799 - loss: 0.8397 - val_accuracy: 0.4835 - val_loss: 0.8355\n",
      "Epoch 3/5\n",
      "\u001b[1m9831/9831\u001b[0m \u001b[32m━━━━━━━━━━━━━━━━━━━━\u001b[0m\u001b[37m\u001b[0m \u001b[1m25s\u001b[0m 3ms/step - accuracy: 0.4809 - loss: 0.8357 - val_accuracy: 0.4840 - val_loss: 0.8318\n",
      "Epoch 4/5\n",
      "\u001b[1m9831/9831\u001b[0m \u001b[32m━━━━━━━━━━━━━━━━━━━━\u001b[0m\u001b[37m\u001b[0m \u001b[1m25s\u001b[0m 3ms/step - accuracy: 0.4818 - loss: 0.8326 - val_accuracy: 0.4839 - val_loss: 0.8261\n",
      "Epoch 5/5\n",
      "\u001b[1m9831/9831\u001b[0m \u001b[32m━━━━━━━━━━━━━━━━━━━━\u001b[0m\u001b[37m\u001b[0m \u001b[1m25s\u001b[0m 3ms/step - accuracy: 0.4819 - loss: 0.8297 - val_accuracy: 0.4855 - val_loss: 0.8233\n",
      "\u001b[1m6554/6554\u001b[0m \u001b[32m━━━━━━━━━━━━━━━━━━━━\u001b[0m\u001b[37m\u001b[0m \u001b[1m5s\u001b[0m 788us/step - accuracy: 0.4849 - loss: 0.8233\n",
      "Validation Accuracy: 48.55%\n"
     ]
    }
   ],
   "source": [
    "# Definisco una callbacks early stopping\n",
    "early_stopping_cb = tf.keras.callbacks.EarlyStopping(monitor=\"val_accuracy\", patience=5, restore_best_weights=True)\n",
    "\n",
    "# Addestro il modello usando i dati preprocessati\n",
    "history = model_250.fit(X_train_reshaped, y_train_categorical, epochs=5, batch_size=64, validation_data=(X_val_reshaped, y_val_categorical), callbacks=[early_stopping_cb])\n",
    "\n",
    "# Valuto l'accuratezza del modello sui dati di validazione\n",
    "valid_loss, valid_acc = model_250.evaluate(X_val_reshaped, y_val_categorical)\n",
    "print(f'Validation Accuracy: {valid_acc * 100:.2f}%')"
   ]
  },
  {
   "cell_type": "code",
   "execution_count": 215,
   "metadata": {},
   "outputs": [
    {
     "name": "stdout",
     "output_type": "stream",
     "text": [
      "\u001b[1m 128/6554\u001b[0m \u001b[37m━━━━━━━━━━━━━━━━━━━━\u001b[0m \u001b[1m5s\u001b[0m 798us/step - accuracy: 0.4947 - loss: 0.8167"
     ]
    },
    {
     "name": "stdout",
     "output_type": "stream",
     "text": [
      "\u001b[1m6554/6554\u001b[0m \u001b[32m━━━━━━━━━━━━━━━━━━━━\u001b[0m\u001b[37m\u001b[0m \u001b[1m5s\u001b[0m 792us/step - accuracy: 0.4859 - loss: 0.8227\n",
      "Test Accuracy: 48.61%\n"
     ]
    }
   ],
   "source": [
    "# Valuto l'accuratezza del modello sui dati del test set\n",
    "test_loss, test_acc = model_250.evaluate(X_test_reshaped, y_test_categorical)\n",
    "print(\"Test Accuracy: {:.2f}%\".format(test_acc * 100))"
   ]
  }
 ],
 "metadata": {
  "kernelspec": {
   "display_name": "Python 3",
   "language": "python",
   "name": "python3"
  },
  "language_info": {
   "codemirror_mode": {
    "name": "ipython",
    "version": 3
   },
   "file_extension": ".py",
   "mimetype": "text/x-python",
   "name": "python",
   "nbconvert_exporter": "python",
   "pygments_lexer": "ipython3",
   "version": "3.10.12"
  }
 },
 "nbformat": 4,
 "nbformat_minor": 2
}
