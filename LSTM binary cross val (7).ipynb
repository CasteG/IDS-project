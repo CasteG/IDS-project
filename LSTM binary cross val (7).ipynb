{
 "cells": [
  {
   "cell_type": "markdown",
   "metadata": {},
   "source": [
    "Versione 7 di LSTM --> in questa versione unisco sia il train_test_split che la k-fold cross validation."
   ]
  },
  {
   "cell_type": "markdown",
   "metadata": {},
   "source": [
    "## LOAD THE DATA\n"
   ]
  },
  {
   "cell_type": "code",
   "execution_count": 1,
   "metadata": {},
   "outputs": [],
   "source": [
    "import os\n",
    "\n",
    "os.environ['TF_CPP_MIN_LOG_LEVEL'] = '3'  "
   ]
  },
  {
   "cell_type": "markdown",
   "metadata": {},
   "source": [
    "Creo un DataFrame pandas dal dataset CSE IDS-2018:"
   ]
  },
  {
   "cell_type": "code",
   "execution_count": 42,
   "metadata": {},
   "outputs": [],
   "source": [
    "import pandas as pd\n",
    "\n",
    "# Apro i file CSV e creo un DataFrame\n",
    "#file_1 = pd.read_csv('Friday-02-03-2018_TrafficForML_CICFlowMeter.csv')\n",
    "df = pd.read_csv('Friday-16-02-2018_TrafficForML_CICFlowMeter.csv', low_memory=False)\n",
    "\n",
    "# Concateno i due file verticalmente\n",
    "#df = pd.concat([file_1, file_2], axis=0, ignore_index=True)"
   ]
  },
  {
   "cell_type": "markdown",
   "metadata": {},
   "source": [
    "## HANDLING TARGET FEATURE "
   ]
  },
  {
   "cell_type": "code",
   "execution_count": 43,
   "metadata": {},
   "outputs": [
    {
     "data": {
      "text/plain": [
       "array(['Benign', 'DoS attacks-SlowHTTPTest', 'DoS attacks-Hulk', 'Label'],\n",
       "      dtype=object)"
      ]
     },
     "execution_count": 43,
     "metadata": {},
     "output_type": "execute_result"
    }
   ],
   "source": [
    "# Analizzo la colonna dei target\n",
    "df[\"Label\"].unique()"
   ]
  },
  {
   "cell_type": "code",
   "execution_count": 44,
   "metadata": {},
   "outputs": [
    {
     "data": {
      "text/plain": [
       "Label\n",
       "DoS attacks-Hulk            461912\n",
       "Benign                      446772\n",
       "DoS attacks-SlowHTTPTest    139890\n",
       "Label                            1\n",
       "Name: count, dtype: int64"
      ]
     },
     "execution_count": 44,
     "metadata": {},
     "output_type": "execute_result"
    }
   ],
   "source": [
    "df[\"Label\"].value_counts()"
   ]
  },
  {
   "cell_type": "markdown",
   "metadata": {},
   "source": [
    "Nei target è presente un'istanza con valore \"Label\" (non definito), la droppo:"
   ]
  },
  {
   "cell_type": "code",
   "execution_count": 45,
   "metadata": {},
   "outputs": [
    {
     "data": {
      "text/plain": [
       "Label\n",
       "DoS attacks-Hulk            461912\n",
       "Benign                      446772\n",
       "DoS attacks-SlowHTTPTest    139890\n",
       "Name: count, dtype: int64"
      ]
     },
     "execution_count": 45,
     "metadata": {},
     "output_type": "execute_result"
    }
   ],
   "source": [
    "# Scarto le istanze 'Label' della feature Label\n",
    "df.drop(df.loc[df[\"Label\"] == \"Label\"].index, inplace=True)\n",
    "\n",
    "# Verifico\n",
    "df[\"Label\"].value_counts()"
   ]
  },
  {
   "cell_type": "markdown",
   "metadata": {},
   "source": [
    "Per semplificare il modello e trasformarlo in una classificazione binaria, converto la feature Label (colonna dei target) facendo sì che valga 0 se l'attacco è benigno e 1 se è maligno (qualsiasi esso sia)"
   ]
  },
  {
   "cell_type": "code",
   "execution_count": 46,
   "metadata": {},
   "outputs": [
    {
     "data": {
      "text/plain": [
       "Label\n",
       "1    601802\n",
       "0    446772\n",
       "Name: count, dtype: int64"
      ]
     },
     "execution_count": 46,
     "metadata": {},
     "output_type": "execute_result"
    }
   ],
   "source": [
    "# Sostituisco i valori nella colonna 'Label' con valori numerici\n",
    "df['Label'] = df['Label'].replace({'Benign': 0, 'DoS attacks-Hulk': 1, 'Bot': 1, 'DoS attacks-SlowHTTPTest': 1})\n",
    "\n",
    "\n",
    "# Verifico\n",
    "df[\"Label\"].value_counts()"
   ]
  },
  {
   "cell_type": "code",
   "execution_count": 47,
   "metadata": {},
   "outputs": [],
   "source": [
    "# Per comodità rinomino la colonna dei target\n",
    "y = df['Label']"
   ]
  },
  {
   "cell_type": "markdown",
   "metadata": {},
   "source": [
    "## TIMESTAMP FEATURE"
   ]
  },
  {
   "cell_type": "markdown",
   "metadata": {},
   "source": [
    "Osservo la colonna Timestamp per capire ogni quanto sono state fatte le osservazioni sul traffico di rete:"
   ]
  },
  {
   "cell_type": "code",
   "execution_count": 48,
   "metadata": {},
   "outputs": [
    {
     "name": "stdout",
     "output_type": "stream",
     "text": [
      "Il periodo totale di osservazione è: 0 days 11:57:52\n"
     ]
    }
   ],
   "source": [
    "# Converto la colonna Timestamp in datetime\n",
    "df['Timestamp'] = pd.to_datetime(df['Timestamp'], dayfirst=True)\n",
    "\n",
    "# Trovo il timestamp minimo e massimo\n",
    "min_timestamp = df['Timestamp'].min()\n",
    "max_timestamp = df['Timestamp'].max()\n",
    "\n",
    "# Calcolo la durata totale\n",
    "duration = max_timestamp - min_timestamp\n",
    "\n",
    "print(f\"Il periodo totale di osservazione è: {duration}\")"
   ]
  },
  {
   "cell_type": "markdown",
   "metadata": {},
   "source": [
    "## FEATURE SELECTION"
   ]
  },
  {
   "cell_type": "markdown",
   "metadata": {},
   "source": [
    "Stampo tutte le feature del dataset per avere un'idea generale."
   ]
  },
  {
   "cell_type": "code",
   "execution_count": 49,
   "metadata": {},
   "outputs": [
    {
     "data": {
      "text/plain": [
       "Index(['Dst Port', 'Protocol', 'Timestamp', 'Flow Duration', 'Tot Fwd Pkts',\n",
       "       'Tot Bwd Pkts', 'TotLen Fwd Pkts', 'TotLen Bwd Pkts', 'Fwd Pkt Len Max',\n",
       "       'Fwd Pkt Len Min', 'Fwd Pkt Len Mean', 'Fwd Pkt Len Std',\n",
       "       'Bwd Pkt Len Max', 'Bwd Pkt Len Min', 'Bwd Pkt Len Mean',\n",
       "       'Bwd Pkt Len Std', 'Flow Byts/s', 'Flow Pkts/s', 'Flow IAT Mean',\n",
       "       'Flow IAT Std', 'Flow IAT Max', 'Flow IAT Min', 'Fwd IAT Tot',\n",
       "       'Fwd IAT Mean', 'Fwd IAT Std', 'Fwd IAT Max', 'Fwd IAT Min',\n",
       "       'Bwd IAT Tot', 'Bwd IAT Mean', 'Bwd IAT Std', 'Bwd IAT Max',\n",
       "       'Bwd IAT Min', 'Fwd PSH Flags', 'Bwd PSH Flags', 'Fwd URG Flags',\n",
       "       'Bwd URG Flags', 'Fwd Header Len', 'Bwd Header Len', 'Fwd Pkts/s',\n",
       "       'Bwd Pkts/s', 'Pkt Len Min', 'Pkt Len Max', 'Pkt Len Mean',\n",
       "       'Pkt Len Std', 'Pkt Len Var', 'FIN Flag Cnt', 'SYN Flag Cnt',\n",
       "       'RST Flag Cnt', 'PSH Flag Cnt', 'ACK Flag Cnt', 'URG Flag Cnt',\n",
       "       'CWE Flag Count', 'ECE Flag Cnt', 'Down/Up Ratio', 'Pkt Size Avg',\n",
       "       'Fwd Seg Size Avg', 'Bwd Seg Size Avg', 'Fwd Byts/b Avg',\n",
       "       'Fwd Pkts/b Avg', 'Fwd Blk Rate Avg', 'Bwd Byts/b Avg',\n",
       "       'Bwd Pkts/b Avg', 'Bwd Blk Rate Avg', 'Subflow Fwd Pkts',\n",
       "       'Subflow Fwd Byts', 'Subflow Bwd Pkts', 'Subflow Bwd Byts',\n",
       "       'Init Fwd Win Byts', 'Init Bwd Win Byts', 'Fwd Act Data Pkts',\n",
       "       'Fwd Seg Size Min', 'Active Mean', 'Active Std', 'Active Max',\n",
       "       'Active Min', 'Idle Mean', 'Idle Std', 'Idle Max', 'Idle Min', 'Label'],\n",
       "      dtype='object')"
      ]
     },
     "execution_count": 49,
     "metadata": {},
     "output_type": "execute_result"
    }
   ],
   "source": [
    "df.columns"
   ]
  },
  {
   "cell_type": "markdown",
   "metadata": {},
   "source": [
    "Mediante eliminazione ricorsiva delle feature, utilizzando una random forest come classificatore, si ottiene questo sottoinsieme di 20 feature più significative:"
   ]
  },
  {
   "cell_type": "code",
   "execution_count": 50,
   "metadata": {},
   "outputs": [],
   "source": [
    "selected_features = [\n",
    "'Fwd Seg Size Min', \n",
    "'Init Fwd Win Byts', \n",
    "'Pkt Size Avg', \n",
    "'Pkt Len Mean', \n",
    "'Bwd Pkts/s', \n",
    "'Fwd Pkts/s', \n",
    "'Fwd Header Len', \n",
    "'Fwd IAT Min', \n",
    "'Fwd IAT Max', \n",
    "'Fwd IAT Mean', \n",
    "'Fwd IAT Tot',\n",
    "'Flow IAT Min', \n",
    "'Flow IAT Max', \n",
    "'Flow IAT Mean', \n",
    "'Flow Pkts/s', \n",
    "'Bwd Header Len', \n",
    "'Flow Byts/s', \n",
    "'TotLen Fwd Pkts',\n",
    "'Flow Duration']"
   ]
  },
  {
   "cell_type": "code",
   "execution_count": 51,
   "metadata": {},
   "outputs": [],
   "source": [
    "# Creo un nuovo DataFrame df che contiene solo le colonne specificate (allo stesso tempo quindi droppo la feature dei target)\n",
    "df = df[selected_features]"
   ]
  },
  {
   "cell_type": "markdown",
   "metadata": {},
   "source": [
    "## CREATE TEST SET AND VAL SET"
   ]
  },
  {
   "cell_type": "markdown",
   "metadata": {},
   "source": [
    "Suddivido il DataFrame in training set (60%), test set (20%) e validation set(20%)."
   ]
  },
  {
   "cell_type": "code",
   "execution_count": 52,
   "metadata": {},
   "outputs": [
    {
     "name": "stdout",
     "output_type": "stream",
     "text": [
      "(629144, 19) (629144,)\n",
      "(209715, 19) (209715,)\n",
      "(209715, 19) (209715,)\n"
     ]
    }
   ],
   "source": [
    "from sklearn.model_selection import train_test_split\n",
    "\n",
    "# Prima suddivisione: dividere il dataset in training set e test set\n",
    "X_train, X_test, y_train, y_test = train_test_split(df, y, test_size=0.2, random_state=42)\n",
    "\n",
    "# Seconda suddivisione: dividere il training set rimanente in training set e validation set\n",
    "X_train, X_val, y_train, y_val = train_test_split(X_train, y_train, test_size=0.25, random_state=42)\n",
    "\n",
    "# Verifico la shape\n",
    "print(X_train.shape, y_train.shape)\n",
    "print(X_val.shape, y_val.shape)\n",
    "print(X_test.shape, y_test.shape)"
   ]
  },
  {
   "cell_type": "markdown",
   "metadata": {},
   "source": [
    "## TAKE A QUICK LOOK AT THE DATA STRUCTURE"
   ]
  },
  {
   "cell_type": "markdown",
   "metadata": {},
   "source": [
    "Sbircio la struttura e le prime istanze del df per capire come procedere:"
   ]
  },
  {
   "cell_type": "code",
   "execution_count": 53,
   "metadata": {},
   "outputs": [
    {
     "data": {
      "text/html": [
       "<div>\n",
       "<style scoped>\n",
       "    .dataframe tbody tr th:only-of-type {\n",
       "        vertical-align: middle;\n",
       "    }\n",
       "\n",
       "    .dataframe tbody tr th {\n",
       "        vertical-align: top;\n",
       "    }\n",
       "\n",
       "    .dataframe thead th {\n",
       "        text-align: right;\n",
       "    }\n",
       "</style>\n",
       "<table border=\"1\" class=\"dataframe\">\n",
       "  <thead>\n",
       "    <tr style=\"text-align: right;\">\n",
       "      <th></th>\n",
       "      <th>Fwd Seg Size Min</th>\n",
       "      <th>Init Fwd Win Byts</th>\n",
       "      <th>Pkt Size Avg</th>\n",
       "      <th>Pkt Len Mean</th>\n",
       "      <th>Bwd Pkts/s</th>\n",
       "      <th>Fwd Pkts/s</th>\n",
       "      <th>Fwd Header Len</th>\n",
       "      <th>Fwd IAT Min</th>\n",
       "      <th>Fwd IAT Max</th>\n",
       "      <th>Fwd IAT Mean</th>\n",
       "      <th>Fwd IAT Tot</th>\n",
       "      <th>Flow IAT Min</th>\n",
       "      <th>Flow IAT Max</th>\n",
       "      <th>Flow IAT Mean</th>\n",
       "      <th>Flow Pkts/s</th>\n",
       "      <th>Bwd Header Len</th>\n",
       "      <th>Flow Byts/s</th>\n",
       "      <th>TotLen Fwd Pkts</th>\n",
       "      <th>Flow Duration</th>\n",
       "    </tr>\n",
       "  </thead>\n",
       "  <tbody>\n",
       "    <tr>\n",
       "      <th>0</th>\n",
       "      <td>0</td>\n",
       "      <td>-1</td>\n",
       "      <td>0</td>\n",
       "      <td>0</td>\n",
       "      <td>0</td>\n",
       "      <td>0.026633341</td>\n",
       "      <td>0</td>\n",
       "      <td>56300000</td>\n",
       "      <td>56300000</td>\n",
       "      <td>56300000</td>\n",
       "      <td>113000000</td>\n",
       "      <td>56300000</td>\n",
       "      <td>56300000</td>\n",
       "      <td>56300000</td>\n",
       "      <td>0.026633341</td>\n",
       "      <td>0</td>\n",
       "      <td>0</td>\n",
       "      <td>0</td>\n",
       "      <td>112640768</td>\n",
       "    </tr>\n",
       "    <tr>\n",
       "      <th>1</th>\n",
       "      <td>0</td>\n",
       "      <td>-1</td>\n",
       "      <td>0</td>\n",
       "      <td>0</td>\n",
       "      <td>0</td>\n",
       "      <td>0.026633104</td>\n",
       "      <td>0</td>\n",
       "      <td>56300000</td>\n",
       "      <td>56300000</td>\n",
       "      <td>56300000</td>\n",
       "      <td>113000000</td>\n",
       "      <td>56300000</td>\n",
       "      <td>56300000</td>\n",
       "      <td>56300000</td>\n",
       "      <td>0.026633104</td>\n",
       "      <td>0</td>\n",
       "      <td>0</td>\n",
       "      <td>0</td>\n",
       "      <td>112641773</td>\n",
       "    </tr>\n",
       "    <tr>\n",
       "      <th>2</th>\n",
       "      <td>20</td>\n",
       "      <td>263</td>\n",
       "      <td>57.07462687</td>\n",
       "      <td>56.23529412</td>\n",
       "      <td>2.116998521</td>\n",
       "      <td>1.106612863</td>\n",
       "      <td>460</td>\n",
       "      <td>66</td>\n",
       "      <td>9144734</td>\n",
       "      <td>940484.2727</td>\n",
       "      <td>20700000</td>\n",
       "      <td>66</td>\n",
       "      <td>9058214</td>\n",
       "      <td>314911.2576</td>\n",
       "      <td>3.223611385</td>\n",
       "      <td>880</td>\n",
       "      <td>180.9071464</td>\n",
       "      <td>2416</td>\n",
       "      <td>20784143</td>\n",
       "    </tr>\n",
       "    <tr>\n",
       "      <th>3</th>\n",
       "      <td>0</td>\n",
       "      <td>-1</td>\n",
       "      <td>0</td>\n",
       "      <td>0</td>\n",
       "      <td>0</td>\n",
       "      <td>0.026633325</td>\n",
       "      <td>0</td>\n",
       "      <td>56300000</td>\n",
       "      <td>56300000</td>\n",
       "      <td>56300000</td>\n",
       "      <td>113000000</td>\n",
       "      <td>56300000</td>\n",
       "      <td>56300000</td>\n",
       "      <td>56300000</td>\n",
       "      <td>0.026633325</td>\n",
       "      <td>0</td>\n",
       "      <td>0</td>\n",
       "      <td>0</td>\n",
       "      <td>112640836</td>\n",
       "    </tr>\n",
       "    <tr>\n",
       "      <th>4</th>\n",
       "      <td>20</td>\n",
       "      <td>58856</td>\n",
       "      <td>0</td>\n",
       "      <td>0</td>\n",
       "      <td>50000</td>\n",
       "      <td>50000</td>\n",
       "      <td>20</td>\n",
       "      <td>0</td>\n",
       "      <td>0</td>\n",
       "      <td>0</td>\n",
       "      <td>0</td>\n",
       "      <td>20</td>\n",
       "      <td>20</td>\n",
       "      <td>20</td>\n",
       "      <td>100000</td>\n",
       "      <td>20</td>\n",
       "      <td>0</td>\n",
       "      <td>0</td>\n",
       "      <td>20</td>\n",
       "    </tr>\n",
       "  </tbody>\n",
       "</table>\n",
       "</div>"
      ],
      "text/plain": [
       "  Fwd Seg Size Min Init Fwd Win Byts Pkt Size Avg Pkt Len Mean   Bwd Pkts/s   \n",
       "0                0                -1            0            0            0  \\\n",
       "1                0                -1            0            0            0   \n",
       "2               20               263  57.07462687  56.23529412  2.116998521   \n",
       "3                0                -1            0            0            0   \n",
       "4               20             58856            0            0        50000   \n",
       "\n",
       "    Fwd Pkts/s Fwd Header Len Fwd IAT Min Fwd IAT Max Fwd IAT Mean   \n",
       "0  0.026633341              0    56300000    56300000     56300000  \\\n",
       "1  0.026633104              0    56300000    56300000     56300000   \n",
       "2  1.106612863            460          66     9144734  940484.2727   \n",
       "3  0.026633325              0    56300000    56300000     56300000   \n",
       "4        50000             20           0           0            0   \n",
       "\n",
       "  Fwd IAT Tot Flow IAT Min Flow IAT Max Flow IAT Mean  Flow Pkts/s   \n",
       "0   113000000     56300000     56300000      56300000  0.026633341  \\\n",
       "1   113000000     56300000     56300000      56300000  0.026633104   \n",
       "2    20700000           66      9058214   314911.2576  3.223611385   \n",
       "3   113000000     56300000     56300000      56300000  0.026633325   \n",
       "4           0           20           20            20       100000   \n",
       "\n",
       "  Bwd Header Len  Flow Byts/s TotLen Fwd Pkts Flow Duration  \n",
       "0              0            0               0     112640768  \n",
       "1              0            0               0     112641773  \n",
       "2            880  180.9071464            2416      20784143  \n",
       "3              0            0               0     112640836  \n",
       "4             20            0               0            20  "
      ]
     },
     "execution_count": 53,
     "metadata": {},
     "output_type": "execute_result"
    }
   ],
   "source": [
    "df.head()"
   ]
  },
  {
   "cell_type": "code",
   "execution_count": 54,
   "metadata": {},
   "outputs": [
    {
     "name": "stdout",
     "output_type": "stream",
     "text": [
      "<class 'pandas.core.frame.DataFrame'>\n",
      "Index: 1048574 entries, 0 to 1048574\n",
      "Data columns (total 19 columns):\n",
      " #   Column             Non-Null Count    Dtype \n",
      "---  ------             --------------    ----- \n",
      " 0   Fwd Seg Size Min   1048574 non-null  object\n",
      " 1   Init Fwd Win Byts  1048574 non-null  object\n",
      " 2   Pkt Size Avg       1048574 non-null  object\n",
      " 3   Pkt Len Mean       1048574 non-null  object\n",
      " 4   Bwd Pkts/s         1048574 non-null  object\n",
      " 5   Fwd Pkts/s         1048574 non-null  object\n",
      " 6   Fwd Header Len     1048574 non-null  object\n",
      " 7   Fwd IAT Min        1048574 non-null  object\n",
      " 8   Fwd IAT Max        1048574 non-null  object\n",
      " 9   Fwd IAT Mean       1048574 non-null  object\n",
      " 10  Fwd IAT Tot        1048574 non-null  object\n",
      " 11  Flow IAT Min       1048574 non-null  object\n",
      " 12  Flow IAT Max       1048574 non-null  object\n",
      " 13  Flow IAT Mean      1048574 non-null  object\n",
      " 14  Flow Pkts/s        1048574 non-null  object\n",
      " 15  Bwd Header Len     1048574 non-null  object\n",
      " 16  Flow Byts/s        1048574 non-null  object\n",
      " 17  TotLen Fwd Pkts    1048574 non-null  object\n",
      " 18  Flow Duration      1048574 non-null  object\n",
      "dtypes: object(19)\n",
      "memory usage: 160.0+ MB\n"
     ]
    }
   ],
   "source": [
    "df.info()"
   ]
  },
  {
   "cell_type": "markdown",
   "metadata": {},
   "source": [
    "## CLEAN THE DATA - Dropping inf and missing values"
   ]
  },
  {
   "cell_type": "code",
   "execution_count": 55,
   "metadata": {},
   "outputs": [],
   "source": [
    "import warnings\n",
    "import numpy as np\n",
    "import matplotlib.pyplot as plt"
   ]
  },
  {
   "cell_type": "markdown",
   "metadata": {},
   "source": [
    "Gestisco eventuali valori Nan o mancanti, che causerebbero problemi nell'addestramento della rete."
   ]
  },
  {
   "cell_type": "code",
   "execution_count": 56,
   "metadata": {},
   "outputs": [
    {
     "name": "stdout",
     "output_type": "stream",
     "text": [
      "Numero totale di valori NaN nel DataFrame: 0\n",
      "Fwd Seg Size Min     False\n",
      "Init Fwd Win Byts    False\n",
      "Pkt Size Avg         False\n",
      "Pkt Len Mean         False\n",
      "Bwd Pkts/s           False\n",
      "Fwd Pkts/s           False\n",
      "Fwd Header Len       False\n",
      "Fwd IAT Min          False\n",
      "Fwd IAT Max          False\n",
      "Fwd IAT Mean         False\n",
      "Fwd IAT Tot          False\n",
      "Flow IAT Min         False\n",
      "Flow IAT Max         False\n",
      "Flow IAT Mean        False\n",
      "Flow Pkts/s          False\n",
      "Bwd Header Len       False\n",
      "Flow Byts/s          False\n",
      "TotLen Fwd Pkts      False\n",
      "Flow Duration        False\n",
      "dtype: bool\n"
     ]
    }
   ],
   "source": [
    "# Verifico se ci sono valori NaN nel df\n",
    "nan_values = X_train.isna().any()\n",
    "\n",
    "# Numero totale di valori NaN nel df\n",
    "total_nan = X_train.isna().sum().sum()\n",
    "\n",
    "# Voglio che l'output non sia troncato\n",
    "pd.set_option('display.max_rows', None)\n",
    "pd.set_option('display.max_columns', None)\n",
    "\n",
    "# Me lo stampo per vedere quali feature sono mancanti (True se è mancante)\n",
    "print(\"Numero totale di valori NaN nel DataFrame:\", total_nan)\n",
    "print(nan_values)"
   ]
  },
  {
   "cell_type": "code",
   "execution_count": 57,
   "metadata": {},
   "outputs": [
    {
     "name": "stdout",
     "output_type": "stream",
     "text": [
      "Feature con inf values:\n",
      "Index([], dtype='object')\n"
     ]
    }
   ],
   "source": [
    "# Verifico quali feature contengono inf values\n",
    "features_with_inf = X_train.columns[X_train.isin([np.inf]).any()]\n",
    "\n",
    "# Stampo le feature che contengono inf values\n",
    "print(\"Feature con inf values:\")\n",
    "print(features_with_inf)"
   ]
  },
  {
   "cell_type": "code",
   "execution_count": 58,
   "metadata": {},
   "outputs": [],
   "source": [
    "# Setto il tipo delle numeriche a float (in modo che siano uniformi)\n",
    "X_train = X_train.astype(float)"
   ]
  },
  {
   "cell_type": "markdown",
   "metadata": {},
   "source": [
    "## FEATURE SCALING"
   ]
  },
  {
   "cell_type": "markdown",
   "metadata": {},
   "source": [
    "Applico _MinMaxScaler_ per normalizzare le feature del dataframe, scalando i valori di ciascuna colonna nell'intervallo compreso tra 0 e 1. La normalizzazione consente di ridurre l'influenza di scale diverse tra le variabili, migliorando le prestazioni degli algoritmi di machine learning e garantendo una convergenza più rapida durante l'addestramento."
   ]
  },
  {
   "cell_type": "code",
   "execution_count": 59,
   "metadata": {},
   "outputs": [],
   "source": [
    "from sklearn.preprocessing import MinMaxScaler"
   ]
  },
  {
   "cell_type": "markdown",
   "metadata": {},
   "source": [
    "Osservo le feature prima della standardizzazione:"
   ]
  },
  {
   "cell_type": "code",
   "execution_count": 60,
   "metadata": {},
   "outputs": [
    {
     "data": {
      "image/png": "[encoded data removed]",
      "text/plain": [
       "<Figure size 1200x500 with 1 Axes>"
      ]
     },
     "metadata": {},
     "output_type": "display_data"
    }
   ],
   "source": [
    "# Grafico dell'istogramma delle features originali\n",
    "plt.figure(figsize=(12, 5))\n",
    "plt.hist(X_train, bins=10, alpha=0.5, label='Original')\n",
    "plt.title('Distribuzione delle features originali')\n",
    "plt.xlabel('Valore')\n",
    "plt.ylabel('Frequenza')\n",
    "plt.legend()\n",
    "plt.show()"
   ]
  },
  {
   "cell_type": "markdown",
   "metadata": {},
   "source": [
    "Ora applico la standardizzazione:"
   ]
  },
  {
   "cell_type": "code",
   "execution_count": 61,
   "metadata": {},
   "outputs": [],
   "source": [
    "min_max_scaler = MinMaxScaler()\n",
    "X_train = min_max_scaler.fit_transform(X_train)"
   ]
  },
  {
   "cell_type": "code",
   "execution_count": 62,
   "metadata": {},
   "outputs": [
    {
     "data": {
      "image/png": "[encoded data removed]",
      "text/plain": [
       "<Figure size 1200x500 with 1 Axes>"
      ]
     },
     "metadata": {},
     "output_type": "display_data"
    }
   ],
   "source": [
    "# Grafico dell'istogramma delle features standardizzate\n",
    "plt.figure(figsize=(12, 5))\n",
    "plt.hist(X_train, bins=10, alpha=0.5, label='Standardized')\n",
    "plt.title('Distribuzione delle features standardizzate')\n",
    "plt.xlabel('Valore standardizzato')\n",
    "plt.ylabel('Frequenza')\n",
    "plt.legend()\n",
    "plt.show()"
   ]
  },
  {
   "cell_type": "markdown",
   "metadata": {},
   "source": [
    "## TRANSFORMATION PIPELINE"
   ]
  },
  {
   "cell_type": "code",
   "execution_count": 63,
   "metadata": {},
   "outputs": [],
   "source": [
    "def preprocess_data(df):\n",
    "\n",
    "    # Converto le colonne in float\n",
    "    df= df.astype(float)\n",
    "\n",
    "    # Applico la standardizzazione\n",
    "    df = min_max_scaler.transform(df)\n",
    "\n",
    "    return df"
   ]
  },
  {
   "cell_type": "code",
   "execution_count": 64,
   "metadata": {},
   "outputs": [],
   "source": [
    "# Applico la funzione di preprocessing sia al test set che al validation set\n",
    "train_set_processed = X_train\n",
    "val_set_processed = preprocess_data(X_val)\n",
    "test_set_processed = preprocess_data(X_test)"
   ]
  },
  {
   "cell_type": "markdown",
   "metadata": {},
   "source": [
    "Definisco la stessa funzione per la k-fold cross validation:"
   ]
  },
  {
   "cell_type": "code",
   "execution_count": 65,
   "metadata": {},
   "outputs": [],
   "source": [
    "def preprocess_data_cross(df, min_max_scaler):\n",
    "\n",
    "    # Converto le colonne numeriche in float\n",
    "    df = df.astype(float)\n",
    "\n",
    "    # Applico la standardizzazione \n",
    "    df= min_max_scaler.transform(df)\n",
    "\n",
    "    return df"
   ]
  },
  {
   "cell_type": "markdown",
   "metadata": {},
   "source": [
    "## CHECKING LABEL DISTRIBUTION"
   ]
  },
  {
   "cell_type": "markdown",
   "metadata": {},
   "source": [
    "Controllo che i target siano ben distribuiti fra tutti i set:"
   ]
  },
  {
   "cell_type": "code",
   "execution_count": 66,
   "metadata": {},
   "outputs": [
    {
     "name": "stdout",
     "output_type": "stream",
     "text": [
      "Full dataset:\n",
      "\n",
      "Benign: 42.61%\n",
      "Malicious: 57.39%\n",
      "---------------\n",
      "Training set:\n",
      "\n",
      "Benign: 42.61%\n",
      "Malicious: 57.39%\n",
      "---------------\n",
      "Validation set:\n",
      "\n",
      "Benign: 42.59%\n",
      "Malicious: 57.41%\n",
      "---------------\n",
      "Test set:\n",
      "\n",
      "Benign: 42.62%\n",
      "Malicious: 57.38%\n",
      "---------------\n"
     ]
    }
   ],
   "source": [
    "# Calcolo la percentuale di istanze \"Benign\" e \"Malicious\" per ogni set\n",
    "def print_percentage(label_counts, total_instances):\n",
    "    benign_percentage = (label_counts[0] / total_instances) * 100\n",
    "    malicious_percentage = (label_counts[1] / total_instances) * 100\n",
    "    print(\"Benign: {:.2f}%\".format(benign_percentage))\n",
    "    print(\"Malicious: {:.2f}%\".format(malicious_percentage))\n",
    "    print(\"---------------\")\n",
    "\n",
    "# Stampo le percentuali per ogni set\n",
    "print(\"Full dataset:\\n\")\n",
    "print_percentage(y.value_counts(), len(df))\n",
    "\n",
    "print(\"Training set:\\n\")\n",
    "print_percentage(y_train.value_counts(), len(X_train))\n",
    "\n",
    "print(\"Validation set:\\n\")\n",
    "print_percentage(y_val.value_counts(), len(X_val))\n",
    "\n",
    "print(\"Test set:\\n\")\n",
    "print_percentage(y_test.value_counts(), len(X_test))"
   ]
  },
  {
   "cell_type": "markdown",
   "metadata": {},
   "source": [
    "# SELECT AND TRAIN A MODEL"
   ]
  },
  {
   "cell_type": "markdown",
   "metadata": {},
   "source": [
    "Definisco il modello che userò per addestrare la LSTM:"
   ]
  },
  {
   "cell_type": "code",
   "execution_count": 67,
   "metadata": {},
   "outputs": [],
   "source": [
    "import tensorflow as tf\n",
    "\n",
    "tf.random.set_seed(42)\n",
    "\n",
    "def build_model(input_shape):\n",
    "\n",
    "    # LSTM model\n",
    "    model = tf.keras.Sequential([\n",
    "        tf.keras.Input(shape=input_shape),\n",
    "        tf.keras.layers.LSTM(64, return_sequences=True),\n",
    "        tf.keras.layers.LSTM(64, return_sequences=True),\n",
    "        tf.keras.layers.LSTM(32, return_sequences=True),\n",
    "        tf.keras.layers.LSTM(32),\n",
    "        tf.keras.layers.Dense(1, activation='sigmoid')  # sigmoid for binary classification\n",
    "    ])\n",
    "\n",
    "    return model"
   ]
  },
  {
   "cell_type": "markdown",
   "metadata": {},
   "source": [
    "## 1) TRAIN_TEST_SPLIT"
   ]
  },
  {
   "cell_type": "markdown",
   "metadata": {},
   "source": [
    "Quando configuro la input_shape nel modello, occorre specificare solo le dimensioni (timesteps, features) perché batch_size viene gestito automaticamente durante l'addestramento. \n",
    "Essendo i dati inizialmente in formato 2D (ogni riga rappresenta un campione con 19 feature), la loro forma è (batch_size, 19). Tuttavia, le LSTM richiedono dati di input in formato 3D con la forma (batch_size, timesteps, features), dunque occorre espandere la dimensione dei dati per far sì che ogni campione abbia una dimensione temporale esplicita."
   ]
  },
  {
   "cell_type": "code",
   "execution_count": 68,
   "metadata": {},
   "outputs": [],
   "source": [
    "# Aggiungo una dimensione ai dati di input per soddisfare la forma attesa dall'LSTM (batch_size, timesteps, feature per timestep)\n",
    "X_train_reshaped = np.expand_dims(train_set_processed, axis=1)\n",
    "X_val_reshaped = np.expand_dims(val_set_processed, axis=1)\n",
    "X_test_reshaped = np.expand_dims(test_set_processed, axis=1)"
   ]
  },
  {
   "cell_type": "markdown",
   "metadata": {},
   "source": [
    "Analizzo la dimensione del dataset per decidere il valore da assegnare al parametro _timesteps_:"
   ]
  },
  {
   "cell_type": "code",
   "execution_count": 69,
   "metadata": {},
   "outputs": [
    {
     "data": {
      "text/plain": [
       "(1048574, 19)"
      ]
     },
     "execution_count": 69,
     "metadata": {},
     "output_type": "execute_result"
    }
   ],
   "source": [
    "df.shape"
   ]
  },
  {
   "cell_type": "markdown",
   "metadata": {},
   "source": [
    "Di seguito provo vari valori per capire quale finestra temporale sia la più adatta al mio modello. Proseguirò in termini di numero di campioni (osservazioni), invece che in termini temporali."
   ]
  },
  {
   "cell_type": "markdown",
   "metadata": {},
   "source": [
    "### MODEL 1 (timesteps = 1456)"
   ]
  },
  {
   "cell_type": "markdown",
   "metadata": {},
   "source": [
    "Scelgo di utilizzare una finestra temporale di 1 minuto, in modo da cogliere eventuali pattern significativi che andrebbero persi con finestre più ampie. Il numero di osservazioni che costituiscono il dataset è di 1048574, lo divido per il numero di minuti totali trascorsi a effettuare le osservazioni (12 ore = 720 min) e ottengo il mio valore di timesteps = 1456 "
   ]
  },
  {
   "cell_type": "code",
   "execution_count": 70,
   "metadata": {},
   "outputs": [],
   "source": [
    "input_shape_1456 = (1456, len(selected_features)) \n",
    "\n",
    "model_1 = build_model(input_shape_1456)"
   ]
  },
  {
   "cell_type": "code",
   "execution_count": 71,
   "metadata": {},
   "outputs": [],
   "source": [
    "model_1.compile(loss='binary_crossentropy',\n",
    "              optimizer='adam',\n",
    "              metrics=['accuracy'])\n",
    "\n",
    "early_stopping_cb = tf.keras.callbacks.EarlyStopping(monitor=\"val_accuracy\", patience=3, restore_best_weights=True)"
   ]
  },
  {
   "cell_type": "code",
   "execution_count": 72,
   "metadata": {},
   "outputs": [
    {
     "name": "stdout",
     "output_type": "stream",
     "text": [
      "Epoch 1/5\n"
     ]
    },
    {
     "name": "stdout",
     "output_type": "stream",
     "text": [
      "\u001b[1m9831/9831\u001b[0m \u001b[32m━━━━━━━━━━━━━━━━━━━━\u001b[0m\u001b[37m\u001b[0m \u001b[1m29s\u001b[0m 3ms/step - accuracy: 0.9718 - loss: 0.0706 - val_accuracy: 0.9954 - val_loss: 0.0265\n",
      "Epoch 2/5\n",
      "\u001b[1m9831/9831\u001b[0m \u001b[32m━━━━━━━━━━━━━━━━━━━━\u001b[0m\u001b[37m\u001b[0m \u001b[1m25s\u001b[0m 3ms/step - accuracy: 0.9955 - loss: 0.0262 - val_accuracy: 0.9955 - val_loss: 0.0255\n",
      "Epoch 3/5\n",
      "\u001b[1m9831/9831\u001b[0m \u001b[32m━━━━━━━━━━━━━━━━━━━━\u001b[0m\u001b[37m\u001b[0m \u001b[1m25s\u001b[0m 3ms/step - accuracy: 0.9956 - loss: 0.0250 - val_accuracy: 0.9956 - val_loss: 0.0250\n",
      "Epoch 4/5\n",
      "\u001b[1m9831/9831\u001b[0m \u001b[32m━━━━━━━━━━━━━━━━━━━━\u001b[0m\u001b[37m\u001b[0m \u001b[1m25s\u001b[0m 3ms/step - accuracy: 0.9957 - loss: 0.0246 - val_accuracy: 0.9955 - val_loss: 0.0252\n",
      "Epoch 5/5\n",
      "\u001b[1m9831/9831\u001b[0m \u001b[32m━━━━━━━━━━━━━━━━━━━━\u001b[0m\u001b[37m\u001b[0m \u001b[1m25s\u001b[0m 3ms/step - accuracy: 0.9957 - loss: 0.0243 - val_accuracy: 0.9954 - val_loss: 0.0248\n",
      "\u001b[1m6554/6554\u001b[0m \u001b[32m━━━━━━━━━━━━━━━━━━━━\u001b[0m\u001b[37m\u001b[0m \u001b[1m5s\u001b[0m 815us/step - accuracy: 0.9955 - loss: 0.0255\n",
      "995565.4144287109\n"
     ]
    }
   ],
   "source": [
    "# Addestro il modello usando i dati preprocessati\n",
    "history = model_1.fit(X_train_reshaped, y_train, epochs=5, batch_size=64, validation_data=(X_val_reshaped, y_val), callbacks=[early_stopping_cb])\n",
    "\n",
    "# Valuto l'accuratezza del modello sui dati di validazione\n",
    "valid_loss, valid_acc = model_1.evaluate(X_val_reshaped, y_val)\n",
    "print(valid_acc * 1e6)"
   ]
  },
  {
   "cell_type": "code",
   "execution_count": 73,
   "metadata": {},
   "outputs": [
    {
     "name": "stdout",
     "output_type": "stream",
     "text": [
      "\u001b[1m6554/6554\u001b[0m \u001b[32m━━━━━━━━━━━━━━━━━━━━\u001b[0m\u001b[37m\u001b[0m \u001b[1m5s\u001b[0m 831us/step - accuracy: 0.9957 - loss: 0.0248\n",
      "Test Accuracy: 99.58%\n"
     ]
    }
   ],
   "source": [
    "# Valuto l'accuratezza del modello sui dati del test set\n",
    "test_loss, test_acc = model_1.evaluate(X_test_reshaped, y_test)\n",
    "print(\"Test Accuracy: {:.2f}%\".format(test_acc * 100))"
   ]
  },
  {
   "cell_type": "markdown",
   "metadata": {},
   "source": [
    "### MODEL 2 (timesteps = 500)"
   ]
  },
  {
   "cell_type": "code",
   "execution_count": 74,
   "metadata": {},
   "outputs": [],
   "source": [
    "input_shape_500 = (500,len(selected_features)) \n",
    "\n",
    "model_2 = build_model(input_shape_500)"
   ]
  },
  {
   "cell_type": "code",
   "execution_count": 75,
   "metadata": {},
   "outputs": [],
   "source": [
    "model_2.compile(loss='binary_crossentropy',\n",
    "              optimizer='adam',\n",
    "              metrics=['accuracy'])\n",
    "\n",
    "early_stopping_cb = tf.keras.callbacks.EarlyStopping(monitor=\"val_accuracy\", patience=3, restore_best_weights=True)"
   ]
  },
  {
   "cell_type": "code",
   "execution_count": 76,
   "metadata": {},
   "outputs": [
    {
     "name": "stdout",
     "output_type": "stream",
     "text": [
      "Epoch 1/5\n",
      "\u001b[1m9831/9831\u001b[0m \u001b[32m━━━━━━━━━━━━━━━━━━━━\u001b[0m\u001b[37m\u001b[0m \u001b[1m28s\u001b[0m 3ms/step - accuracy: 0.9710 - loss: 0.0726 - val_accuracy: 0.9953 - val_loss: 0.0270\n",
      "Epoch 2/5\n",
      "\u001b[1m9831/9831\u001b[0m \u001b[32m━━━━━━━━━━━━━━━━━━━━\u001b[0m\u001b[37m\u001b[0m \u001b[1m25s\u001b[0m 3ms/step - accuracy: 0.9954 - loss: 0.0268 - val_accuracy: 0.9955 - val_loss: 0.0261\n",
      "Epoch 3/5\n",
      "\u001b[1m9831/9831\u001b[0m \u001b[32m━━━━━━━━━━━━━━━━━━━━\u001b[0m\u001b[37m\u001b[0m \u001b[1m25s\u001b[0m 3ms/step - accuracy: 0.9955 - loss: 0.0260 - val_accuracy: 0.9954 - val_loss: 0.0261\n",
      "Epoch 4/5\n",
      "\u001b[1m9831/9831\u001b[0m \u001b[32m━━━━━━━━━━━━━━━━━━━━\u001b[0m\u001b[37m\u001b[0m \u001b[1m25s\u001b[0m 3ms/step - accuracy: 0.9955 - loss: 0.0258 - val_accuracy: 0.9955 - val_loss: 0.0253\n",
      "Epoch 5/5\n",
      "\u001b[1m9831/9831\u001b[0m \u001b[32m━━━━━━━━━━━━━━━━━━━━\u001b[0m\u001b[37m\u001b[0m \u001b[1m25s\u001b[0m 3ms/step - accuracy: 0.9959 - loss: 0.0232 - val_accuracy: 0.9956 - val_loss: 0.0241\n",
      "\u001b[1m6554/6554\u001b[0m \u001b[32m━━━━━━━━━━━━━━━━━━━━\u001b[0m\u001b[37m\u001b[0m \u001b[1m5s\u001b[0m 819us/step - accuracy: 0.9955 - loss: 0.0246\n",
      "995579.719543457\n"
     ]
    }
   ],
   "source": [
    "# Addestro il modello usando i dati preprocessati\n",
    "history = model_2.fit(X_train_reshaped, y_train, epochs=5, batch_size=64, validation_data=(X_val_reshaped, y_val), callbacks=[early_stopping_cb])\n",
    "\n",
    "# Valuto l'accuratezza del modello sui dati di validazione\n",
    "valid_loss, valid_acc = model_2.evaluate(X_val_reshaped, y_val)\n",
    "print(valid_acc * 1e6)"
   ]
  },
  {
   "cell_type": "code",
   "execution_count": 77,
   "metadata": {},
   "outputs": [
    {
     "name": "stdout",
     "output_type": "stream",
     "text": [
      "\u001b[1m6554/6554\u001b[0m \u001b[32m━━━━━━━━━━━━━━━━━━━━\u001b[0m\u001b[37m\u001b[0m \u001b[1m5s\u001b[0m 800us/step - accuracy: 0.9958 - loss: 0.0236\n",
      "Test Accuracy: 99.59%\n"
     ]
    }
   ],
   "source": [
    "# Valuto l'accuratezza del modello sui dati del test set\n",
    "test_loss, test_acc = model_2.evaluate(X_test_reshaped, y_test)\n",
    "print(\"Test Accuracy: {:.2f}%\".format(test_acc * 100))"
   ]
  },
  {
   "cell_type": "markdown",
   "metadata": {},
   "source": [
    "### MODEL 3 (timesteps = 250)"
   ]
  },
  {
   "cell_type": "code",
   "execution_count": 78,
   "metadata": {},
   "outputs": [],
   "source": [
    "input_shape_250 = (250,len(selected_features)) \n",
    "\n",
    "model_3 = build_model(input_shape_250)"
   ]
  },
  {
   "cell_type": "code",
   "execution_count": 79,
   "metadata": {},
   "outputs": [],
   "source": [
    "model_3.compile(loss='binary_crossentropy',\n",
    "              optimizer='adam',\n",
    "              metrics=['accuracy'])\n",
    "\n",
    "early_stopping_cb = tf.keras.callbacks.EarlyStopping(monitor=\"val_accuracy\", patience=3, restore_best_weights=True)"
   ]
  },
  {
   "cell_type": "code",
   "execution_count": 80,
   "metadata": {},
   "outputs": [
    {
     "name": "stdout",
     "output_type": "stream",
     "text": [
      "Epoch 1/5\n",
      "\u001b[1m9831/9831\u001b[0m \u001b[32m━━━━━━━━━━━━━━━━━━━━\u001b[0m\u001b[37m\u001b[0m \u001b[1m28s\u001b[0m 3ms/step - accuracy: 0.9717 - loss: 0.0708 - val_accuracy: 0.9942 - val_loss: 0.0276\n",
      "Epoch 2/5\n",
      "\u001b[1m9831/9831\u001b[0m \u001b[32m━━━━━━━━━━━━━━━━━━━━\u001b[0m\u001b[37m\u001b[0m \u001b[1m25s\u001b[0m 3ms/step - accuracy: 0.9952 - loss: 0.0261 - val_accuracy: 0.9955 - val_loss: 0.0250\n",
      "Epoch 3/5\n",
      "\u001b[1m9831/9831\u001b[0m \u001b[32m━━━━━━━━━━━━━━━━━━━━\u001b[0m\u001b[37m\u001b[0m \u001b[1m25s\u001b[0m 3ms/step - accuracy: 0.9957 - loss: 0.0247 - val_accuracy: 0.9956 - val_loss: 0.0248\n",
      "Epoch 4/5\n",
      "\u001b[1m9831/9831\u001b[0m \u001b[32m━━━━━━━━━━━━━━━━━━━━\u001b[0m\u001b[37m\u001b[0m \u001b[1m25s\u001b[0m 3ms/step - accuracy: 0.9957 - loss: 0.0244 - val_accuracy: 0.9956 - val_loss: 0.0253\n",
      "Epoch 5/5\n",
      "\u001b[1m9831/9831\u001b[0m \u001b[32m━━━━━━━━━━━━━━━━━━━━\u001b[0m\u001b[37m\u001b[0m \u001b[1m25s\u001b[0m 3ms/step - accuracy: 0.9957 - loss: 0.0244 - val_accuracy: 0.9955 - val_loss: 0.0251\n",
      "\u001b[1m6554/6554\u001b[0m \u001b[32m━━━━━━━━━━━━━━━━━━━━\u001b[0m\u001b[37m\u001b[0m \u001b[1m5s\u001b[0m 793us/step - accuracy: 0.9955 - loss: 0.0253\n",
      "995598.7930297852\n"
     ]
    }
   ],
   "source": [
    "# Addestro il modello usando i dati preprocessati\n",
    "history = model_3.fit(X_train_reshaped, y_train, epochs=5, batch_size=64, validation_data=(X_val_reshaped, y_val), callbacks=[early_stopping_cb])\n",
    "\n",
    "# Valuto l'accuratezza del modello sui dati di validazione\n",
    "valid_loss, valid_acc = model_3.evaluate(X_val_reshaped, y_val)\n",
    "print(valid_acc * 1e6)"
   ]
  },
  {
   "cell_type": "code",
   "execution_count": 81,
   "metadata": {},
   "outputs": [
    {
     "name": "stdout",
     "output_type": "stream",
     "text": [
      "\u001b[1m6554/6554\u001b[0m \u001b[32m━━━━━━━━━━━━━━━━━━━━\u001b[0m\u001b[37m\u001b[0m \u001b[1m5s\u001b[0m 793us/step - accuracy: 0.9957 - loss: 0.0246\n",
      "Test Accuracy: 99.59%\n"
     ]
    }
   ],
   "source": [
    "# Valuto l'accuratezza del modello sui dati del test set\n",
    "test_loss, test_acc = model_3.evaluate(X_test_reshaped, y_test)\n",
    "print(\"Test Accuracy: {:.2f}%\".format(test_acc * 100))"
   ]
  },
  {
   "cell_type": "markdown",
   "metadata": {},
   "source": [
    "### MODEL 4 (timesteps = 10.000)"
   ]
  },
  {
   "cell_type": "code",
   "execution_count": 82,
   "metadata": {},
   "outputs": [],
   "source": [
    "input_shape_10000 = (10000,len(selected_features)) \n",
    "\n",
    "model_4 = build_model(input_shape_10000)"
   ]
  },
  {
   "cell_type": "code",
   "execution_count": 83,
   "metadata": {},
   "outputs": [],
   "source": [
    "model_4.compile(loss='binary_crossentropy',\n",
    "              optimizer='adam',\n",
    "              metrics=['accuracy'])\n",
    "\n",
    "early_stopping_cb = tf.keras.callbacks.EarlyStopping(monitor=\"val_accuracy\", patience=3, restore_best_weights=True)"
   ]
  },
  {
   "cell_type": "code",
   "execution_count": 84,
   "metadata": {},
   "outputs": [
    {
     "name": "stdout",
     "output_type": "stream",
     "text": [
      "Epoch 1/5\n",
      "\u001b[1m9831/9831\u001b[0m \u001b[32m━━━━━━━━━━━━━━━━━━━━\u001b[0m\u001b[37m\u001b[0m \u001b[1m28s\u001b[0m 3ms/step - accuracy: 0.9712 - loss: 0.0716 - val_accuracy: 0.9955 - val_loss: 0.0259\n",
      "Epoch 2/5\n",
      "\u001b[1m9831/9831\u001b[0m \u001b[32m━━━━━━━━━━━━━━━━━━━━\u001b[0m\u001b[37m\u001b[0m \u001b[1m25s\u001b[0m 3ms/step - accuracy: 0.9956 - loss: 0.0254 - val_accuracy: 0.9953 - val_loss: 0.0267\n",
      "Epoch 3/5\n",
      "\u001b[1m9831/9831\u001b[0m \u001b[32m━━━━━━━━━━━━━━━━━━━━\u001b[0m\u001b[37m\u001b[0m \u001b[1m25s\u001b[0m 3ms/step - accuracy: 0.9954 - loss: 0.0260 - val_accuracy: 0.9955 - val_loss: 0.0257\n",
      "Epoch 4/5\n",
      "\u001b[1m9831/9831\u001b[0m \u001b[32m━━━━━━━━━━━━━━━━━━━━\u001b[0m\u001b[37m\u001b[0m \u001b[1m25s\u001b[0m 3ms/step - accuracy: 0.9957 - loss: 0.0245 - val_accuracy: 0.9955 - val_loss: 0.0252\n",
      "\u001b[1m6554/6554\u001b[0m \u001b[32m━━━━━━━━━━━━━━━━━━━━\u001b[0m\u001b[37m\u001b[0m \u001b[1m5s\u001b[0m 807us/step - accuracy: 0.9954 - loss: 0.0263\n",
      "995470.0469970703\n"
     ]
    }
   ],
   "source": [
    "# Addestro il modello usando i dati preprocessati\n",
    "history = model_4.fit(X_train_reshaped, y_train, epochs=5, batch_size=64, validation_data=(X_val_reshaped, y_val), callbacks=[early_stopping_cb])\n",
    "\n",
    "# Valuto l'accuratezza del modello sui dati di validazione\n",
    "valid_loss, valid_acc = model_4.evaluate(X_val_reshaped, y_val)\n",
    "print(valid_acc * 1e6)"
   ]
  },
  {
   "cell_type": "code",
   "execution_count": 85,
   "metadata": {},
   "outputs": [
    {
     "name": "stdout",
     "output_type": "stream",
     "text": [
      "\u001b[1m6554/6554\u001b[0m \u001b[32m━━━━━━━━━━━━━━━━━━━━\u001b[0m\u001b[37m\u001b[0m \u001b[1m5s\u001b[0m 819us/step - accuracy: 0.9956 - loss: 0.0253\n",
      "Test Accuracy: 99.57%\n"
     ]
    }
   ],
   "source": [
    "# Valuto l'accuratezza del modello sui dati del test set\n",
    "test_loss, test_acc = model_4.evaluate(X_test_reshaped, y_test)\n",
    "print(\"Test Accuracy: {:.2f}%\".format(test_acc * 100))"
   ]
  },
  {
   "cell_type": "markdown",
   "metadata": {},
   "source": [
    "## 2) K-FOLD CROSS-VALIDATION"
   ]
  },
  {
   "cell_type": "markdown",
   "metadata": {},
   "source": [
    "Per ottenere una migliore valutazione, un'alternativa alla funzione _train-test-split()_ è la feature _k-fold cross validation_ di Scikit-Learn. Questa tecnica consiste nello splittare in maniera randomica il training set in _k_ sottoinsiemi che non si sovrappongono - chiamati _folds_ - ed effettuare addestramento e valutazione _k_ volte, scegliendo a ogni passaggio un fold diverso per la valutazione e i restanti _k-1_ per l'addestramento. Come risultato si ottiene un array contenente i _k_ punteggi di valutazione."
   ]
  },
  {
   "cell_type": "markdown",
   "metadata": {},
   "source": [
    "Questo garantisce che ogni parte del dataset venga utilizzata sia per l'addestramento che per la validazione, evitando che si ottenga una valutazione biased come invece può accadere con il _train-test-split()_."
   ]
  },
  {
   "cell_type": "markdown",
   "metadata": {},
   "source": [
    "La cross-validation impiega maggiori risorse ma permette di visualizzare delle informazioni aggiuntive: oltre alla stima delle performance del modello, abbiamo infatti a disposizione anche una misura di quanto sia precisa questa stima (ovvero la deviazione standard)."
   ]
  },
  {
   "cell_type": "code",
   "execution_count": 86,
   "metadata": {},
   "outputs": [
    {
     "name": "stdout",
     "output_type": "stream",
     "text": [
      "Epoch 1/5\n",
      "\u001b[1m13108/13108\u001b[0m \u001b[32m━━━━━━━━━━━━━━━━━━━━\u001b[0m\u001b[37m\u001b[0m \u001b[1m36s\u001b[0m 2ms/step - accuracy: 0.9739 - loss: 0.0704 - val_accuracy: 0.9957 - val_loss: 0.0250\n",
      "Epoch 2/5\n",
      "\u001b[1m13108/13108\u001b[0m \u001b[32m━━━━━━━━━━━━━━━━━━━━\u001b[0m\u001b[37m\u001b[0m \u001b[1m32s\u001b[0m 2ms/step - accuracy: 0.9952 - loss: 0.0276 - val_accuracy: 0.9944 - val_loss: 0.0279\n",
      "Epoch 3/5\n",
      "\u001b[1m13108/13108\u001b[0m \u001b[32m━━━━━━━━━━━━━━━━━━━━\u001b[0m\u001b[37m\u001b[0m \u001b[1m32s\u001b[0m 2ms/step - accuracy: 0.9948 - loss: 0.0260 - val_accuracy: 0.9980 - val_loss: 0.0137\n",
      "Epoch 4/5\n",
      "\u001b[1m13108/13108\u001b[0m \u001b[32m━━━━━━━━━━━━━━━━━━━━\u001b[0m\u001b[37m\u001b[0m \u001b[1m32s\u001b[0m 2ms/step - accuracy: 0.9977 - loss: 0.0148 - val_accuracy: 0.9980 - val_loss: 0.0138\n",
      "Epoch 5/5\n",
      "\u001b[1m13108/13108\u001b[0m \u001b[32m━━━━━━━━━━━━━━━━━━━━\u001b[0m\u001b[37m\u001b[0m \u001b[1m32s\u001b[0m 2ms/step - accuracy: 0.9978 - loss: 0.0143 - val_accuracy: 0.9980 - val_loss: 0.0135\n",
      "\u001b[1m6554/6554\u001b[0m \u001b[32m━━━━━━━━━━━━━━━━━━━━\u001b[0m\u001b[37m\u001b[0m \u001b[1m5s\u001b[0m 815us/step - accuracy: 0.9984 - loss: 0.0107\n",
      "Epoch 1/5\n",
      "\u001b[1m13108/13108\u001b[0m \u001b[32m━━━━━━━━━━━━━━━━━━━━\u001b[0m\u001b[37m\u001b[0m \u001b[1m36s\u001b[0m 2ms/step - accuracy: 0.9744 - loss: 0.0696 - val_accuracy: 0.9955 - val_loss: 0.0256\n",
      "Epoch 2/5\n",
      "\u001b[1m13108/13108\u001b[0m \u001b[32m━━━━━━━━━━━━━━━━━━━━\u001b[0m\u001b[37m\u001b[0m \u001b[1m32s\u001b[0m 2ms/step - accuracy: 0.9949 - loss: 0.0291 - val_accuracy: 0.9943 - val_loss: 0.0331\n",
      "Epoch 3/5\n",
      "\u001b[1m13108/13108\u001b[0m \u001b[32m━━━━━━━━━━━━━━━━━━━━\u001b[0m\u001b[37m\u001b[0m \u001b[1m32s\u001b[0m 2ms/step - accuracy: 0.9947 - loss: 0.0290 - val_accuracy: 0.9968 - val_loss: 0.0161\n",
      "Epoch 4/5\n",
      "\u001b[1m13108/13108\u001b[0m \u001b[32m━━━━━━━━━━━━━━━━━━━━\u001b[0m\u001b[37m\u001b[0m \u001b[1m32s\u001b[0m 2ms/step - accuracy: 0.9965 - loss: 0.0183 - val_accuracy: 0.9956 - val_loss: 0.0227\n",
      "Epoch 5/5\n",
      "\u001b[1m13108/13108\u001b[0m \u001b[32m━━━━━━━━━━━━━━━━━━━━\u001b[0m\u001b[37m\u001b[0m \u001b[1m32s\u001b[0m 2ms/step - accuracy: 0.9971 - loss: 0.0157 - val_accuracy: 0.9981 - val_loss: 0.0121\n",
      "\u001b[1m6554/6554\u001b[0m \u001b[32m━━━━━━━━━━━━━━━━━━━━\u001b[0m\u001b[37m\u001b[0m \u001b[1m5s\u001b[0m 813us/step - accuracy: 0.9984 - loss: 0.0103\n",
      "Epoch 1/5\n",
      "\u001b[1m13108/13108\u001b[0m \u001b[32m━━━━━━━━━━━━━━━━━━━━\u001b[0m\u001b[37m\u001b[0m \u001b[1m35s\u001b[0m 2ms/step - accuracy: 0.9735 - loss: 0.0709 - val_accuracy: 0.9955 - val_loss: 0.0263\n",
      "Epoch 2/5\n",
      "\u001b[1m13108/13108\u001b[0m \u001b[32m━━━━━━━━━━━━━━━━━━━━\u001b[0m\u001b[37m\u001b[0m \u001b[1m32s\u001b[0m 2ms/step - accuracy: 0.9951 - loss: 0.0283 - val_accuracy: 0.9955 - val_loss: 0.0233\n",
      "Epoch 3/5\n",
      "\u001b[1m13108/13108\u001b[0m \u001b[32m━━━━━━━━━━━━━━━━━━━━\u001b[0m\u001b[37m\u001b[0m \u001b[1m32s\u001b[0m 2ms/step - accuracy: 0.9958 - loss: 0.0198 - val_accuracy: 0.9978 - val_loss: 0.0140\n",
      "Epoch 4/5\n",
      "\u001b[1m13108/13108\u001b[0m \u001b[32m━━━━━━━━━━━━━━━━━━━━\u001b[0m\u001b[37m\u001b[0m \u001b[1m32s\u001b[0m 2ms/step - accuracy: 0.9967 - loss: 0.0192 - val_accuracy: 0.9939 - val_loss: 0.0313\n",
      "Epoch 5/5\n",
      "\u001b[1m13108/13108\u001b[0m \u001b[32m━━━━━━━━━━━━━━━━━━━━\u001b[0m\u001b[37m\u001b[0m \u001b[1m32s\u001b[0m 2ms/step - accuracy: 0.9954 - loss: 0.0226 - val_accuracy: 0.9978 - val_loss: 0.0132\n",
      "\u001b[1m6554/6554\u001b[0m \u001b[32m━━━━━━━━━━━━━━━━━━━━\u001b[0m\u001b[37m\u001b[0m \u001b[1m5s\u001b[0m 810us/step - accuracy: 0.9982 - loss: 0.0108\n",
      "Epoch 1/5\n",
      "\u001b[1m13108/13108\u001b[0m \u001b[32m━━━━━━━━━━━━━━━━━━━━\u001b[0m\u001b[37m\u001b[0m \u001b[1m36s\u001b[0m 3ms/step - accuracy: 0.9749 - loss: 0.0668 - val_accuracy: 0.9954 - val_loss: 0.0262\n",
      "Epoch 2/5\n",
      "\u001b[1m13108/13108\u001b[0m \u001b[32m━━━━━━━━━━━━━━━━━━━━\u001b[0m\u001b[37m\u001b[0m \u001b[1m33s\u001b[0m 2ms/step - accuracy: 0.9950 - loss: 0.0286 - val_accuracy: 0.9942 - val_loss: 0.0304\n",
      "Epoch 3/5\n",
      "\u001b[1m13108/13108\u001b[0m \u001b[32m━━━━━━━━━━━━━━━━━━━━\u001b[0m\u001b[37m\u001b[0m \u001b[1m33s\u001b[0m 2ms/step - accuracy: 0.9951 - loss: 0.0261 - val_accuracy: 0.9954 - val_loss: 0.0171\n",
      "Epoch 4/5\n",
      "\u001b[1m13108/13108\u001b[0m \u001b[32m━━━━━━━━━━━━━━━━━━━━\u001b[0m\u001b[37m\u001b[0m \u001b[1m32s\u001b[0m 2ms/step - accuracy: 0.9969 - loss: 0.0166 - val_accuracy: 0.9978 - val_loss: 0.0152\n",
      "Epoch 5/5\n",
      "\u001b[1m13108/13108\u001b[0m \u001b[32m━━━━━━━━━━━━━━━━━━━━\u001b[0m\u001b[37m\u001b[0m \u001b[1m32s\u001b[0m 2ms/step - accuracy: 0.9977 - loss: 0.0150 - val_accuracy: 0.9972 - val_loss: 0.0186\n",
      "\u001b[1m6554/6554\u001b[0m \u001b[32m━━━━━━━━━━━━━━━━━━━━\u001b[0m\u001b[37m\u001b[0m \u001b[1m5s\u001b[0m 789us/step - accuracy: 0.9978 - loss: 0.0149\n",
      "Epoch 1/5\n",
      "\u001b[1m13108/13108\u001b[0m \u001b[32m━━━━━━━━━━━━━━━━━━━━\u001b[0m\u001b[37m\u001b[0m \u001b[1m36s\u001b[0m 2ms/step - accuracy: 0.9740 - loss: 0.0694 - val_accuracy: 0.9957 - val_loss: 0.0248\n",
      "Epoch 2/5\n",
      "\u001b[1m13108/13108\u001b[0m \u001b[32m━━━━━━━━━━━━━━━━━━━━\u001b[0m\u001b[37m\u001b[0m \u001b[1m32s\u001b[0m 2ms/step - accuracy: 0.9942 - loss: 0.0326 - val_accuracy: 0.9945 - val_loss: 0.0292\n",
      "Epoch 3/5\n",
      "\u001b[1m13108/13108\u001b[0m \u001b[32m━━━━━━━━━━━━━━━━━━━━\u001b[0m\u001b[37m\u001b[0m \u001b[1m32s\u001b[0m 2ms/step - accuracy: 0.9947 - loss: 0.0259 - val_accuracy: 0.9945 - val_loss: 0.0270\n",
      "Epoch 4/5\n",
      "\u001b[1m13108/13108\u001b[0m \u001b[32m━━━━━━━━━━━━━━━━━━━━\u001b[0m\u001b[37m\u001b[0m \u001b[1m32s\u001b[0m 2ms/step - accuracy: 0.9954 - loss: 0.0225 - val_accuracy: 0.9967 - val_loss: 0.0159\n",
      "Epoch 5/5\n",
      "\u001b[1m13108/13108\u001b[0m \u001b[32m━━━━━━━━━━━━━━━━━━━━\u001b[0m\u001b[37m\u001b[0m \u001b[1m32s\u001b[0m 2ms/step - accuracy: 0.9956 - loss: 0.0211 - val_accuracy: 0.9968 - val_loss: 0.0158\n",
      "\u001b[1m6554/6554\u001b[0m \u001b[32m━━━━━━━━━━━━━━━━━━━━\u001b[0m\u001b[37m\u001b[0m \u001b[1m5s\u001b[0m 814us/step - accuracy: 0.9978 - loss: 0.0117\n"
     ]
    }
   ],
   "source": [
    "from sklearn.model_selection import KFold\n",
    "\n",
    "num_folds = 5       # valore di default\n",
    "input_shape = (1456,19)         # # 1456 osservazioni come timesteps --> prendo il modello migliore\n",
    "\n",
    "# Configurazione k-fold cross validation\n",
    "kfold = KFold(n_splits=num_folds, shuffle=True, random_state=42)    #random_state for reproducible output\n",
    "\n",
    "# Creo una lista che ospiterà i punteggi di ogni fold\n",
    "scores = []\n",
    "\n",
    "# Ciclo sui folds\n",
    "for train_index, val_index in kfold.split(df):\n",
    "\n",
    "    # Converto i DataFrame in array NumPy\n",
    "    X_train_cross, X_val_cross = df.iloc[train_index].values, df.iloc[val_index].values\n",
    "    y_train_cross, y_val_cross = y.iloc[train_index].values, y.iloc[val_index].values\n",
    "\n",
    "    # Applico le trasformazioni definite nella fase del pre-processamento\n",
    "    # (stando attenta ad applicarle separatamente per training set e val set per evitare overfitting):\n",
    "\n",
    "    # Setto il tipo a float (in modo che siano uniformi)\n",
    "    X_train_cross = X_train_cross.astype(float)\n",
    "\n",
    "    # Applico la standardizzazione\n",
    "    min_max_scaler_cross = MinMaxScaler()\n",
    "    X_train_cross = min_max_scaler_cross.fit_transform(X_train_cross)\n",
    "\n",
    "    # Applico il pre-processamento anche al set di validazione\n",
    "    X_val_cross = preprocess_data_cross(X_val_cross, min_max_scaler_cross)\n",
    "\n",
    "    # Reshape dei dati per la LSTM da 2D a 3D: (campioni, timesteps, features)\n",
    "    X_train_expanded = np.expand_dims(X_train_cross, axis=1)\n",
    "    X_val_expanded = np.expand_dims(X_val_cross, axis=1)\n",
    "\n",
    "    X_train_expanded = np.asarray(X_train_expanded).astype('float32')\n",
    "    X_val_expanded = np.asarray(X_val_expanded).astype('float32')\n",
    "\n",
    "    # Costruisco il modello\n",
    "    model_cross = build_model(input_shape)\n",
    "\n",
    "    model_cross.compile(loss='binary_crossentropy',\n",
    "              optimizer='adam',\n",
    "              metrics=['accuracy'])\n",
    "    \n",
    "    # Addestro il modello\n",
    "    model_cross.fit(X_train_expanded, y_train_cross, epochs=5, batch_size=64, validation_data=(X_val_expanded, y_val_cross))\n",
    "\n",
    "    # Valuto il modello\n",
    "    scores.append(model_cross.evaluate(X_val_expanded, y_val_cross))"
   ]
  },
  {
   "cell_type": "code",
   "execution_count": 87,
   "metadata": {},
   "outputs": [
    {
     "name": "stdout",
     "output_type": "stream",
     "text": [
      "Mean score: [0.01462995 0.99756908]\n",
      "Standard deviation score: [0.00232333 0.0004972 ]\n"
     ]
    }
   ],
   "source": [
    "# Calcolo la media e la deviazione standard dei punteggi ottenuti\n",
    "scores = np.array(scores)\n",
    "mean_score = scores.mean(axis=0)\n",
    "std_score = scores.std(axis=0)\n",
    "print(f\"Mean score: {mean_score}\")\n",
    "print(f\"Standard deviation score: {std_score}\")"
   ]
  },
  {
   "cell_type": "markdown",
   "metadata": {},
   "source": [
    "Il risultato ottenuto sembra ottimo:\n",
    "- 99,7 % di accuratezza con l'1,5% di perdita\n",
    "- deviazione standard trascurabile, ovvero le prestazioni del modello sono stabili tra i vari folds"
   ]
  },
  {
   "cell_type": "markdown",
   "metadata": {},
   "source": [
    "### Stratified k-fold cross validation"
   ]
  },
  {
   "cell_type": "markdown",
   "metadata": {},
   "source": [
    "Proviamo ora a vedere se le prestazioni del modello variano usando una variante, ovvero la _stratified k-fold cross validation_, utilizzata nei casi di distribuzioni sbilanciate dei target. L'idea è quella di far sì che la distribuzione delle etichette di ogni fold sia pressochè la stessa della distribuzione originale del dataset, ovvero ogni fold deve essere rappresentativo del dataset intero. Nella k-fold cross validation invece, la divisione dei dati è casuale. "
   ]
  },
  {
   "cell_type": "code",
   "execution_count": 88,
   "metadata": {},
   "outputs": [
    {
     "name": "stdout",
     "output_type": "stream",
     "text": [
      "Epoch 1/5\n",
      "\u001b[1m13108/13108\u001b[0m \u001b[32m━━━━━━━━━━━━━━━━━━━━\u001b[0m\u001b[37m\u001b[0m \u001b[1m35s\u001b[0m 2ms/step - accuracy: 0.9749 - loss: 0.0666 - val_accuracy: 0.9956 - val_loss: 0.0253\n",
      "Epoch 2/5\n",
      "\u001b[1m10828/13108\u001b[0m \u001b[32m━━━━━━━━━━━━━━━━\u001b[0m\u001b[37m━━━━\u001b[0m \u001b[1m5s\u001b[0m 2ms/step - accuracy: 0.9953 - loss: 0.0268"
     ]
    },
    {
     "name": "stdout",
     "output_type": "stream",
     "text": [
      "\u001b[1m13108/13108\u001b[0m \u001b[32m━━━━━━━━━━━━━━━━━━━━\u001b[0m\u001b[37m\u001b[0m \u001b[1m32s\u001b[0m 2ms/step - accuracy: 0.9953 - loss: 0.0271 - val_accuracy: 0.9955 - val_loss: 0.0261\n",
      "Epoch 3/5\n",
      "\u001b[1m13108/13108\u001b[0m \u001b[32m━━━━━━━━━━━━━━━━━━━━\u001b[0m\u001b[37m\u001b[0m \u001b[1m32s\u001b[0m 2ms/step - accuracy: 0.9954 - loss: 0.0256 - val_accuracy: 0.9979 - val_loss: 0.0158\n",
      "Epoch 4/5\n",
      "\u001b[1m13108/13108\u001b[0m \u001b[32m━━━━━━━━━━━━━━━━━━━━\u001b[0m\u001b[37m\u001b[0m \u001b[1m32s\u001b[0m 2ms/step - accuracy: 0.9977 - loss: 0.0154 - val_accuracy: 0.9979 - val_loss: 0.0143\n",
      "Epoch 5/5\n",
      "\u001b[1m13108/13108\u001b[0m \u001b[32m━━━━━━━━━━━━━━━━━━━━\u001b[0m\u001b[37m\u001b[0m \u001b[1m32s\u001b[0m 2ms/step - accuracy: 0.9975 - loss: 0.0152 - val_accuracy: 0.9979 - val_loss: 0.0141\n",
      "\u001b[1m6554/6554\u001b[0m \u001b[32m━━━━━━━━━━━━━━━━━━━━\u001b[0m\u001b[37m\u001b[0m \u001b[1m5s\u001b[0m 823us/step - accuracy: 0.9982 - loss: 0.0119\n",
      "Epoch 1/5\n",
      "\u001b[1m13108/13108\u001b[0m \u001b[32m━━━━━━━━━━━━━━━━━━━━\u001b[0m\u001b[37m\u001b[0m \u001b[1m37s\u001b[0m 3ms/step - accuracy: 0.9748 - loss: 0.0693 - val_accuracy: 0.9946 - val_loss: 0.0342\n",
      "Epoch 2/5\n",
      "\u001b[1m13108/13108\u001b[0m \u001b[32m━━━━━━━━━━━━━━━━━━━━\u001b[0m\u001b[37m\u001b[0m \u001b[1m32s\u001b[0m 2ms/step - accuracy: 0.9949 - loss: 0.0291 - val_accuracy: 0.9955 - val_loss: 0.0193\n",
      "Epoch 3/5\n",
      "\u001b[1m13108/13108\u001b[0m \u001b[32m━━━━━━━━━━━━━━━━━━━━\u001b[0m\u001b[37m\u001b[0m \u001b[1m32s\u001b[0m 2ms/step - accuracy: 0.9964 - loss: 0.0194 - val_accuracy: 0.9977 - val_loss: 0.0158\n",
      "Epoch 4/5\n",
      "\u001b[1m13108/13108\u001b[0m \u001b[32m━━━━━━━━━━━━━━━━━━━━\u001b[0m\u001b[37m\u001b[0m \u001b[1m32s\u001b[0m 2ms/step - accuracy: 0.9975 - loss: 0.0162 - val_accuracy: 0.9979 - val_loss: 0.0141\n",
      "Epoch 5/5\n",
      "\u001b[1m13108/13108\u001b[0m \u001b[32m━━━━━━━━━━━━━━━━━━━━\u001b[0m\u001b[37m\u001b[0m \u001b[1m33s\u001b[0m 2ms/step - accuracy: 0.9974 - loss: 0.0165 - val_accuracy: 0.9979 - val_loss: 0.0134\n",
      "\u001b[1m6554/6554\u001b[0m \u001b[32m━━━━━━━━━━━━━━━━━━━━\u001b[0m\u001b[37m\u001b[0m \u001b[1m6s\u001b[0m 849us/step - accuracy: 0.9985 - loss: 0.0098\n",
      "Epoch 1/5\n",
      "\u001b[1m13108/13108\u001b[0m \u001b[32m━━━━━━━━━━━━━━━━━━━━\u001b[0m\u001b[37m\u001b[0m \u001b[1m36s\u001b[0m 3ms/step - accuracy: 0.9748 - loss: 0.0675 - val_accuracy: 0.9957 - val_loss: 0.0250\n",
      "Epoch 2/5\n",
      "\u001b[1m13108/13108\u001b[0m \u001b[32m━━━━━━━━━━━━━━━━━━━━\u001b[0m\u001b[37m\u001b[0m \u001b[1m32s\u001b[0m 2ms/step - accuracy: 0.9946 - loss: 0.0296 - val_accuracy: 0.9979 - val_loss: 0.0143\n",
      "Epoch 3/5\n",
      "\u001b[1m13108/13108\u001b[0m \u001b[32m━━━━━━━━━━━━━━━━━━━━\u001b[0m\u001b[37m\u001b[0m \u001b[1m32s\u001b[0m 2ms/step - accuracy: 0.9963 - loss: 0.0197 - val_accuracy: 0.9980 - val_loss: 0.0128\n",
      "Epoch 4/5\n",
      "\u001b[1m13108/13108\u001b[0m \u001b[32m━━━━━━━━━━━━━━━━━━━━\u001b[0m\u001b[37m\u001b[0m \u001b[1m32s\u001b[0m 2ms/step - accuracy: 0.9974 - loss: 0.0154 - val_accuracy: 0.9982 - val_loss: 0.0120\n",
      "Epoch 5/5\n",
      "\u001b[1m13108/13108\u001b[0m \u001b[32m━━━━━━━━━━━━━━━━━━━━\u001b[0m\u001b[37m\u001b[0m \u001b[1m32s\u001b[0m 2ms/step - accuracy: 0.9975 - loss: 0.0149 - val_accuracy: 0.9981 - val_loss: 0.0124\n",
      "\u001b[1m6554/6554\u001b[0m \u001b[32m━━━━━━━━━━━━━━━━━━━━\u001b[0m\u001b[37m\u001b[0m \u001b[1m6s\u001b[0m 837us/step - accuracy: 0.9984 - loss: 0.0102\n",
      "Epoch 1/5\n",
      "\u001b[1m13108/13108\u001b[0m \u001b[32m━━━━━━━━━━━━━━━━━━━━\u001b[0m\u001b[37m\u001b[0m \u001b[1m36s\u001b[0m 3ms/step - accuracy: 0.9751 - loss: 0.0673 - val_accuracy: 0.9956 - val_loss: 0.0266\n",
      "Epoch 2/5\n",
      "\u001b[1m13108/13108\u001b[0m \u001b[32m━━━━━━━━━━━━━━━━━━━━\u001b[0m\u001b[37m\u001b[0m \u001b[1m32s\u001b[0m 2ms/step - accuracy: 0.9957 - loss: 0.0249 - val_accuracy: 0.9956 - val_loss: 0.0256\n",
      "Epoch 3/5\n",
      "\u001b[1m13108/13108\u001b[0m \u001b[32m━━━━━━━━━━━━━━━━━━━━\u001b[0m\u001b[37m\u001b[0m \u001b[1m32s\u001b[0m 2ms/step - accuracy: 0.9960 - loss: 0.0224 - val_accuracy: 0.9956 - val_loss: 0.0252\n",
      "Epoch 4/5\n",
      "\u001b[1m13108/13108\u001b[0m \u001b[32m━━━━━━━━━━━━━━━━━━━━\u001b[0m\u001b[37m\u001b[0m \u001b[1m32s\u001b[0m 2ms/step - accuracy: 0.9966 - loss: 0.0202 - val_accuracy: 0.9979 - val_loss: 0.0135\n",
      "Epoch 5/5\n",
      "\u001b[1m13108/13108\u001b[0m \u001b[32m━━━━━━━━━━━━━━━━━━━━\u001b[0m\u001b[37m\u001b[0m \u001b[1m32s\u001b[0m 2ms/step - accuracy: 0.9971 - loss: 0.0179 - val_accuracy: 0.9953 - val_loss: 0.0267\n",
      "\u001b[1m6554/6554\u001b[0m \u001b[32m━━━━━━━━━━━━━━━━━━━━\u001b[0m\u001b[37m\u001b[0m \u001b[1m5s\u001b[0m 791us/step - accuracy: 0.9964 - loss: 0.0209\n",
      "Epoch 1/5\n",
      "\u001b[1m13108/13108\u001b[0m \u001b[32m━━━━━━━━━━━━━━━━━━━━\u001b[0m\u001b[37m\u001b[0m \u001b[1m36s\u001b[0m 2ms/step - accuracy: 0.9746 - loss: 0.0686 - val_accuracy: 0.9954 - val_loss: 0.0267\n",
      "Epoch 2/5\n",
      "\u001b[1m13108/13108\u001b[0m \u001b[32m━━━━━━━━━━━━━━━━━━━━\u001b[0m\u001b[37m\u001b[0m \u001b[1m32s\u001b[0m 2ms/step - accuracy: 0.9952 - loss: 0.0277 - val_accuracy: 0.9942 - val_loss: 0.0281\n",
      "Epoch 3/5\n",
      "\u001b[1m13108/13108\u001b[0m \u001b[32m━━━━━━━━━━━━━━━━━━━━\u001b[0m\u001b[37m\u001b[0m \u001b[1m32s\u001b[0m 2ms/step - accuracy: 0.9948 - loss: 0.0283 - val_accuracy: 0.9943 - val_loss: 0.0280\n",
      "Epoch 4/5\n",
      "\u001b[1m13108/13108\u001b[0m \u001b[32m━━━━━━━━━━━━━━━━━━━━\u001b[0m\u001b[37m\u001b[0m \u001b[1m32s\u001b[0m 2ms/step - accuracy: 0.9958 - loss: 0.0218 - val_accuracy: 0.9978 - val_loss: 0.0151\n",
      "Epoch 5/5\n",
      "\u001b[1m13108/13108\u001b[0m \u001b[32m━━━━━━━━━━━━━━━━━━━━\u001b[0m\u001b[37m\u001b[0m \u001b[1m32s\u001b[0m 2ms/step - accuracy: 0.9974 - loss: 0.0163 - val_accuracy: 0.9978 - val_loss: 0.0152\n",
      "\u001b[1m6554/6554\u001b[0m \u001b[32m━━━━━━━━━━━━━━━━━━━━\u001b[0m\u001b[37m\u001b[0m \u001b[1m5s\u001b[0m 816us/step - accuracy: 0.9981 - loss: 0.0133\n"
     ]
    }
   ],
   "source": [
    "from sklearn.model_selection import StratifiedKFold\n",
    "\n",
    "num_folds = 5\n",
    "input_shape = (1456, len(selected_features)) \n",
    "\n",
    "# Configurazione stratified k-fold cross validation\n",
    "stratkfold = StratifiedKFold(n_splits=num_folds, shuffle=True, random_state=42)    #random_state for reproducible output\n",
    "\n",
    "# Creo una lista che ospiterà i punteggi di ogni fold\n",
    "scores = []\n",
    "\n",
    "# Ciclo sui folds\n",
    "for train_index, val_index in stratkfold.split(df, y):\n",
    "\n",
    "    \n",
    "    # Converto i DataFrame in array NumPy\n",
    "    X_train_str_cross, X_val_str_cross = df.iloc[train_index].values, df.iloc[val_index].values\n",
    "    y_train_str_cross, y_val_str_cross = y.iloc[train_index].values, y.iloc[val_index].values\n",
    "\n",
    "    # Applico le trasformazioni definite nella fase del pre-processamento\n",
    "    # (stando attenta ad applicarle separatamente per training set e val set per evitare overfitting):\n",
    "\n",
    "    # Setto il tipo a float (in modo che siano uniformi)\n",
    "    X_train_str_cross = X_train_str_cross.astype(float)\n",
    "\n",
    "    # Applico la standardizzazione\n",
    "    min_max_scaler_str_cross = MinMaxScaler()\n",
    "    X_train_str_cross = min_max_scaler_str_cross.fit_transform(X_train_str_cross)\n",
    "\n",
    "    # Applico il pre-processamento anche al set di validazione\n",
    "    X_val_str_cross = preprocess_data_cross(X_val_str_cross, min_max_scaler_str_cross)\n",
    "\n",
    "    # Reshape dei dati per la LSTM da 2D a 3D: (campioni, timesteps, features)\n",
    "    X_train_str_expanded = np.expand_dims(X_train_str_cross, axis=1)\n",
    "    X_val_str_expanded = np.expand_dims(X_val_str_cross, axis=1)\n",
    "\n",
    "    X_train_str_expanded = np.asarray(X_train_str_expanded).astype('float32')\n",
    "    X_val_str_expanded = np.asarray(X_val_str_expanded).astype('float32')\n",
    "\n",
    "    # Costruisco il modello\n",
    "    model_str_cross = build_model(input_shape)\n",
    "\n",
    "    model_str_cross.compile(loss='binary_crossentropy',\n",
    "              optimizer='adam',\n",
    "              metrics=['accuracy'])\n",
    "    \n",
    "    # Addestro il modello\n",
    "    model_str_cross.fit(X_train_str_expanded, y_train_str_cross, epochs=5, batch_size=64, validation_data=(X_val_str_expanded, y_val_str_cross))\n",
    "\n",
    "    # Valuto il modello\n",
    "    scores.append(model_str_cross.evaluate(X_val_str_expanded, y_val_str_cross))"
   ]
  },
  {
   "cell_type": "code",
   "execution_count": 89,
   "metadata": {},
   "outputs": [
    {
     "name": "stdout",
     "output_type": "stream",
     "text": [
      "Mean score: [0.01637542 0.99738789]\n",
      "Standard deviation score: [0.00524759 0.00104026]\n"
     ]
    }
   ],
   "source": [
    "# Calcolo la media e la deviazione standard dei punteggi ottenuti\n",
    "scores = np.array(scores)\n",
    "mean_score = scores.mean(axis=0)\n",
    "std_score = scores.std(axis=0)\n",
    "print(f\"Mean score: {mean_score}\")\n",
    "print(f\"Standard deviation score: {std_score}\")"
   ]
  },
  {
   "cell_type": "markdown",
   "metadata": {},
   "source": [
    "I risultati non mostrano variazioni significative."
   ]
  },
  {
   "cell_type": "markdown",
   "metadata": {},
   "source": [
    "## SAVE THE MODEL"
   ]
  },
  {
   "cell_type": "markdown",
   "metadata": {},
   "source": [
    "Salvo il modello che ha ottenuto le prestazioni migliori:"
   ]
  },
  {
   "cell_type": "code",
   "execution_count": 91,
   "metadata": {},
   "outputs": [],
   "source": [
    "# Save the entire model as a `.keras` zip archive\n",
    "model_1.save('LSTM_binary_cross.keras')"
   ]
  },
  {
   "cell_type": "code",
   "execution_count": 92,
   "metadata": {},
   "outputs": [
    {
     "data": {
      "text/html": [
       "<pre style=\"white-space:pre;overflow-x:auto;line-height:normal;font-family:Menlo,'DejaVu Sans Mono',consolas,'Courier New',monospace\"><span style=\"font-weight: bold\">Model: \"sequential_13\"</span>\n",
       "</pre>\n"
      ],
      "text/plain": [
       "\u001b[1mModel: \"sequential_13\"\u001b[0m\n"
      ]
     },
     "metadata": {},
     "output_type": "display_data"
    },
    {
     "data": {
      "text/html": [
       "<pre style=\"white-space:pre;overflow-x:auto;line-height:normal;font-family:Menlo,'DejaVu Sans Mono',consolas,'Courier New',monospace\">┏━━━━━━━━━━━━━━━━━━━━━━━━━━━━━━━━━┳━━━━━━━━━━━━━━━━━━━━━━━━┳━━━━━━━━━━━━━━━┓\n",
       "┃<span style=\"font-weight: bold\"> Layer (type)                    </span>┃<span style=\"font-weight: bold\"> Output Shape           </span>┃<span style=\"font-weight: bold\">       Param # </span>┃\n",
       "┡━━━━━━━━━━━━━━━━━━━━━━━━━━━━━━━━━╇━━━━━━━━━━━━━━━━━━━━━━━━╇━━━━━━━━━━━━━━━┩\n",
       "│ lstm_52 (<span style=\"color: #0087ff; text-decoration-color: #0087ff\">LSTM</span>)                  │ (<span style=\"color: #00d7ff; text-decoration-color: #00d7ff\">None</span>, <span style=\"color: #00af00; text-decoration-color: #00af00\">1456</span>, <span style=\"color: #00af00; text-decoration-color: #00af00\">64</span>)       │        <span style=\"color: #00af00; text-decoration-color: #00af00\">21,504</span> │\n",
       "├─────────────────────────────────┼────────────────────────┼───────────────┤\n",
       "│ lstm_53 (<span style=\"color: #0087ff; text-decoration-color: #0087ff\">LSTM</span>)                  │ (<span style=\"color: #00d7ff; text-decoration-color: #00d7ff\">None</span>, <span style=\"color: #00af00; text-decoration-color: #00af00\">1456</span>, <span style=\"color: #00af00; text-decoration-color: #00af00\">64</span>)       │        <span style=\"color: #00af00; text-decoration-color: #00af00\">33,024</span> │\n",
       "├─────────────────────────────────┼────────────────────────┼───────────────┤\n",
       "│ lstm_54 (<span style=\"color: #0087ff; text-decoration-color: #0087ff\">LSTM</span>)                  │ (<span style=\"color: #00d7ff; text-decoration-color: #00d7ff\">None</span>, <span style=\"color: #00af00; text-decoration-color: #00af00\">1456</span>, <span style=\"color: #00af00; text-decoration-color: #00af00\">32</span>)       │        <span style=\"color: #00af00; text-decoration-color: #00af00\">12,416</span> │\n",
       "├─────────────────────────────────┼────────────────────────┼───────────────┤\n",
       "│ lstm_55 (<span style=\"color: #0087ff; text-decoration-color: #0087ff\">LSTM</span>)                  │ (<span style=\"color: #00d7ff; text-decoration-color: #00d7ff\">None</span>, <span style=\"color: #00af00; text-decoration-color: #00af00\">32</span>)             │         <span style=\"color: #00af00; text-decoration-color: #00af00\">8,320</span> │\n",
       "├─────────────────────────────────┼────────────────────────┼───────────────┤\n",
       "│ dense_13 (<span style=\"color: #0087ff; text-decoration-color: #0087ff\">Dense</span>)                │ (<span style=\"color: #00d7ff; text-decoration-color: #00d7ff\">None</span>, <span style=\"color: #00af00; text-decoration-color: #00af00\">1</span>)              │            <span style=\"color: #00af00; text-decoration-color: #00af00\">33</span> │\n",
       "└─────────────────────────────────┴────────────────────────┴───────────────┘\n",
       "</pre>\n"
      ],
      "text/plain": [
       "┏━━━━━━━━━━━━━━━━━━━━━━━━━━━━━━━━━┳━━━━━━━━━━━━━━━━━━━━━━━━┳━━━━━━━━━━━━━━━┓\n",
       "┃\u001b[1m \u001b[0m\u001b[1mLayer (type)                   \u001b[0m\u001b[1m \u001b[0m┃\u001b[1m \u001b[0m\u001b[1mOutput Shape          \u001b[0m\u001b[1m \u001b[0m┃\u001b[1m \u001b[0m\u001b[1m      Param #\u001b[0m\u001b[1m \u001b[0m┃\n",
       "┡━━━━━━━━━━━━━━━━━━━━━━━━━━━━━━━━━╇━━━━━━━━━━━━━━━━━━━━━━━━╇━━━━━━━━━━━━━━━┩\n",
       "│ lstm_52 (\u001b[38;5;33mLSTM\u001b[0m)                  │ (\u001b[38;5;45mNone\u001b[0m, \u001b[38;5;34m1456\u001b[0m, \u001b[38;5;34m64\u001b[0m)       │        \u001b[38;5;34m21,504\u001b[0m │\n",
       "├─────────────────────────────────┼────────────────────────┼───────────────┤\n",
       "│ lstm_53 (\u001b[38;5;33mLSTM\u001b[0m)                  │ (\u001b[38;5;45mNone\u001b[0m, \u001b[38;5;34m1456\u001b[0m, \u001b[38;5;34m64\u001b[0m)       │        \u001b[38;5;34m33,024\u001b[0m │\n",
       "├─────────────────────────────────┼────────────────────────┼───────────────┤\n",
       "│ lstm_54 (\u001b[38;5;33mLSTM\u001b[0m)                  │ (\u001b[38;5;45mNone\u001b[0m, \u001b[38;5;34m1456\u001b[0m, \u001b[38;5;34m32\u001b[0m)       │        \u001b[38;5;34m12,416\u001b[0m │\n",
       "├─────────────────────────────────┼────────────────────────┼───────────────┤\n",
       "│ lstm_55 (\u001b[38;5;33mLSTM\u001b[0m)                  │ (\u001b[38;5;45mNone\u001b[0m, \u001b[38;5;34m32\u001b[0m)             │         \u001b[38;5;34m8,320\u001b[0m │\n",
       "├─────────────────────────────────┼────────────────────────┼───────────────┤\n",
       "│ dense_13 (\u001b[38;5;33mDense\u001b[0m)                │ (\u001b[38;5;45mNone\u001b[0m, \u001b[38;5;34m1\u001b[0m)              │            \u001b[38;5;34m33\u001b[0m │\n",
       "└─────────────────────────────────┴────────────────────────┴───────────────┘\n"
      ]
     },
     "metadata": {},
     "output_type": "display_data"
    },
    {
     "data": {
      "text/html": [
       "<pre style=\"white-space:pre;overflow-x:auto;line-height:normal;font-family:Menlo,'DejaVu Sans Mono',consolas,'Courier New',monospace\"><span style=\"font-weight: bold\"> Total params: </span><span style=\"color: #00af00; text-decoration-color: #00af00\">225,893</span> (882.40 KB)\n",
       "</pre>\n"
      ],
      "text/plain": [
       "\u001b[1m Total params: \u001b[0m\u001b[38;5;34m225,893\u001b[0m (882.40 KB)\n"
      ]
     },
     "metadata": {},
     "output_type": "display_data"
    },
    {
     "data": {
      "text/html": [
       "<pre style=\"white-space:pre;overflow-x:auto;line-height:normal;font-family:Menlo,'DejaVu Sans Mono',consolas,'Courier New',monospace\"><span style=\"font-weight: bold\"> Trainable params: </span><span style=\"color: #00af00; text-decoration-color: #00af00\">75,297</span> (294.13 KB)\n",
       "</pre>\n"
      ],
      "text/plain": [
       "\u001b[1m Trainable params: \u001b[0m\u001b[38;5;34m75,297\u001b[0m (294.13 KB)\n"
      ]
     },
     "metadata": {},
     "output_type": "display_data"
    },
    {
     "data": {
      "text/html": [
       "<pre style=\"white-space:pre;overflow-x:auto;line-height:normal;font-family:Menlo,'DejaVu Sans Mono',consolas,'Courier New',monospace\"><span style=\"font-weight: bold\"> Non-trainable params: </span><span style=\"color: #00af00; text-decoration-color: #00af00\">0</span> (0.00 B)\n",
       "</pre>\n"
      ],
      "text/plain": [
       "\u001b[1m Non-trainable params: \u001b[0m\u001b[38;5;34m0\u001b[0m (0.00 B)\n"
      ]
     },
     "metadata": {},
     "output_type": "display_data"
    },
    {
     "data": {
      "text/html": [
       "<pre style=\"white-space:pre;overflow-x:auto;line-height:normal;font-family:Menlo,'DejaVu Sans Mono',consolas,'Courier New',monospace\"><span style=\"font-weight: bold\"> Optimizer params: </span><span style=\"color: #00af00; text-decoration-color: #00af00\">150,596</span> (588.27 KB)\n",
       "</pre>\n"
      ],
      "text/plain": [
       "\u001b[1m Optimizer params: \u001b[0m\u001b[38;5;34m150,596\u001b[0m (588.27 KB)\n"
      ]
     },
     "metadata": {},
     "output_type": "display_data"
    }
   ],
   "source": [
    "# Reload the Keras model from the .keras zip archive\n",
    "saved_model = tf.keras.models.load_model('LSTM_binary_cross.keras')\n",
    "\n",
    "# Show the model architecture\n",
    "saved_model.summary()"
   ]
  }
 ],
 "metadata": {
  "kernelspec": {
   "display_name": "venv",
   "language": "python",
   "name": "python3"
  },
  "language_info": {
   "codemirror_mode": {
    "name": "ipython",
    "version": 3
   },
   "file_extension": ".py",
   "mimetype": "text/x-python",
   "name": "python",
   "nbconvert_exporter": "python",
   "pygments_lexer": "ipython3",
   "version": "3.10.12"
  }
 },
 "nbformat": 4,
 "nbformat_minor": 2
}
